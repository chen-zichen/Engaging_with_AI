{
 "cells": [
  {
   "cell_type": "code",
   "execution_count": 1,
   "metadata": {},
   "outputs": [],
   "source": [
    "import pandas as pd\n",
    "from utils import *"
   ]
  },
  {
   "cell_type": "code",
   "execution_count": 2,
   "metadata": {},
   "outputs": [],
   "source": [
    "df = load_data()\n",
    "# save df to csv\n",
    "for i in range(1, 7):\n",
    "    temp = df[df['condition'] == i]\n",
    "    for index, row in temp.iterrows():\n",
    "        for q in range(1, 21):\n",
    "            temp.at[index, f'{q}_1'] = temp.at[index, f'{q}_1'] == temp.at[index, f'{q}_gt']\n",
    "            temp.at[index, f'{q}_2'] = temp.at[index, f'{q}_2'] == temp.at[index, f'{q}_gt']\n",
    "            temp.at[index, f'{q}_3'] = temp.at[index, f'{q}_3'] == temp.at[index, f'{q}_gt']\n",
    "            temp.at[index, f'{q}_ai'] = temp.at[index, f'{q}_ai'] == temp.at[index, f'{q}_gt']\n",
    "    temp.to_csv(f'condition_{i}_res.csv', index=False)"
   ]
  },
  {
   "cell_type": "code",
   "execution_count": 3,
   "metadata": {},
   "outputs": [
    {
     "name": "stderr",
     "output_type": "stream",
     "text": [
      "/Users/Luo/Lab/projects/Engaging_with_AI/utils.py:316: FutureWarning: \n",
      "\n",
      "The `ci` parameter is deprecated. Use `errorbar='sd'` for the same effect.\n",
      "\n",
      "  sns.barplot(data=df_melted, x='Step', y='Value', order=col_names, ci='sd', capsize=0.1)\n"
     ]
    },
    {
     "name": "stdout",
     "output_type": "stream",
     "text": [
      "One-way ANOVA results:\n",
      "F-statistic: 517.7646478408466\n",
      "p-value: 5.594375285211009e-142\n",
      "\n",
      "Tukey's HSD test results:\n",
      " Multiple Comparison of Means - Tukey HSD, FWER=0.05 \n",
      "=====================================================\n",
      "group1 group2 meandiff p-adj   lower    upper  reject\n",
      "-----------------------------------------------------\n",
      "    cc     cf  -10.037    0.0 -10.7744 -9.2996   True\n",
      "    cc     fc  -9.4537    0.0 -10.1911 -8.7163   True\n",
      "    cc     ff  -6.4352    0.0  -7.1726 -5.6978   True\n",
      "    cf     fc   0.5833 0.1749  -0.1541  1.3207  False\n",
      "    cf     ff   3.6019    0.0   2.8644  4.3393   True\n",
      "    fc     ff   3.0185    0.0   2.2811  3.7559   True\n",
      "-----------------------------------------------------\n"
     ]
    },
    {
     "data": {
      "image/png": "[encoded data removed]",
      "text/plain": [
       "<Figure size 600x600 with 1 Axes>"
      ]
     },
     "metadata": {},
     "output_type": "display_data"
    }
   ],
   "source": [
    "df = load_data()\n",
    "\n",
    "data = {\n",
    "    \"cf\": [],\n",
    "    \"fc\": [],\n",
    "    \"cc\": [],\n",
    "    \"ff\": []\n",
    "}\n",
    "\n",
    "for index, row in df.iterrows():\n",
    "    cf,fc,cc,ff = 0,0,0,0\n",
    "    for i in range(1, 21):\n",
    "        # step 1 is correct\n",
    "        if row[f'{i}_1'] == row[f'{i}_gt']:\n",
    "            if row[f'{i}_2'] == row[f'{i}_gt']:\n",
    "                cc += 1\n",
    "            else:\n",
    "                cf += 1\n",
    "        # step 1 is incorrect\n",
    "        else:\n",
    "            if row[f'{i}_2'] == row[f'{i}_gt']:\n",
    "                fc += 1\n",
    "            else:\n",
    "                ff += 1\n",
    "\n",
    "    data[\"cf\"].append(cf)\n",
    "    data[\"fc\"].append(fc)\n",
    "    data[\"cc\"].append(cc)\n",
    "    data[\"ff\"].append(ff)\n",
    "\n",
    "data = pd.DataFrame(data)\n",
    "plot_bar(data)"
   ]
  },
  {
   "cell_type": "code",
   "execution_count": 4,
   "metadata": {},
   "outputs": [
    {
     "name": "stdout",
     "output_type": "stream",
     "text": [
      "When AI suggestions is incorrect:\n",
      "table order [[cf, fc], [cc, ff]]\n",
      "[[94, 19], [109, 264]] 1.555834315348132e-16\n",
      "When AI suggestions is correct:\n",
      "table order [[cf, fc], [cc, ff]]\n",
      "[[62, 200], [1131, 281]] 6.4383221343551916e-158\n"
     ]
    }
   ],
   "source": [
    "df = load_data()\n",
    "\n",
    "cf,fc,cc,ff = 0,0,0,0\n",
    "cf_ai,fc_ai,cc_ai,ff_ai = 0,0,0,0\n",
    "for index, row in df.iterrows():\n",
    "    for i in range(1, 21):\n",
    "        if row[f'{i}_ai'] != row[f'{i}_gt']:\n",
    "            # step 1 is correct\n",
    "            if row[f'{i}_1'] == row[f'{i}_gt']:\n",
    "                if row[f'{i}_2'] == row[f'{i}_gt']:\n",
    "                    cc += 1\n",
    "                else:\n",
    "                    cf += 1\n",
    "            # step 1 is incorrect\n",
    "            else:\n",
    "                if row[f'{i}_2'] == row[f'{i}_gt']:\n",
    "                    fc += 1\n",
    "                else:\n",
    "                    ff += 1\n",
    "        # when AI is correct\n",
    "        else:\n",
    "            # step 1 is correct\n",
    "            if row[f'{i}_1'] == row[f'{i}_gt']:\n",
    "                if row[f'{i}_2'] == row[f'{i}_gt']:\n",
    "                    cc_ai += 1\n",
    "                else:\n",
    "                    cf_ai += 1\n",
    "            # step 1 is incorrect\n",
    "            else:\n",
    "                if row[f'{i}_2'] == row[f'{i}_gt']:\n",
    "                    fc_ai += 1\n",
    "                else:\n",
    "                    ff_ai += 1\n",
    "\n",
    "table = [[cf, fc],\n",
    "         [cc, ff]]\n",
    "from statsmodels.stats.contingency_tables import mcnemar\n",
    "result = mcnemar(table, exact=True)\n",
    "print(\"When AI suggestions is incorrect:\")\n",
    "print(f\"table order [[cf, fc], [cc, ff]]\")\n",
    "print(table, result.pvalue)\n",
    "\n",
    "table_ai = [[cf_ai, fc_ai],\n",
    "         [cc_ai, ff_ai]]\n",
    "from statsmodels.stats.contingency_tables import mcnemar\n",
    "result_ai = mcnemar(table_ai, exact=True)\n",
    "print(\"When AI suggestions is correct:\")\n",
    "print(f\"table order [[cf, fc], [cc, ff]]\")\n",
    "print(table_ai, result_ai.pvalue)\n",
    "\n",
    "# when AI is correct, f-c is significantly higher than c-f\n",
    "# when AI is incorrect, f-c is significantly lower than c-f\n",
    "# AI significantly influences the user's decision"
   ]
  },
  {
   "cell_type": "code",
   "execution_count": 5,
   "metadata": {},
   "outputs": [
    {
     "name": "stdout",
     "output_type": "stream",
     "text": [
      "F-value: 1.1178639881602255, p-value: 0.29300488227789506\n",
      "F-value: 6.031990281433488, p-value: 0.016773681825289165\n",
      "F-value: 5.098733598384291, p-value: 0.028431645400197818\n"
     ]
    }
   ],
   "source": [
    "df = load_data()\n",
    "\n",
    "user_acc = {\n",
    "    \"hs\": [],\n",
    "    \"college\": [],\n",
    "    \"others\": []\n",
    "}\n",
    "\n",
    "for index, row in df.iterrows():\n",
    "    count = 0\n",
    "    for i in range(1, 21):\n",
    "        if row[f\"{i}_ai\"] != row[f\"{i}_1\"] and row[f\"{i}_ai\"] == row[f\"{i}_2\"]: count += 1\n",
    "    if row['education'] in ['High school degree']:\n",
    "        user_acc['hs'].append(count)\n",
    "    elif row['education'] in ['College degree']:\n",
    "        user_acc['college'].append(count)\n",
    "    else:\n",
    "        user_acc['others'].append(count)\n",
    "\n",
    "# Perform one-way ANOVA\n",
    "f_value, p_value = stats.f_oneway(user_acc['hs'], user_acc['college'])\n",
    "print(f\"F-value: {f_value}, p-value: {p_value}\")\n",
    "\n",
    "f_value, p_value = stats.f_oneway(user_acc['hs'], user_acc['others'])\n",
    "print(f\"F-value: {f_value}, p-value: {p_value}\")\n",
    "\n",
    "f_value, p_value = stats.f_oneway(user_acc['others'], user_acc['college'])\n",
    "print(f\"F-value: {f_value}, p-value: {p_value}\")\n",
    "\n",
    "# f_value, p_value = stats.ttest_rel(user_acc['familiar'], user_acc['unfamiliar'])\n",
    "# print(f\"F-value: {f_value}, p-value: {p_value}\")"
   ]
  },
  {
   "cell_type": "code",
   "execution_count": 6,
   "metadata": {},
   "outputs": [
    {
     "name": "stdout",
     "output_type": "stream",
     "text": [
      "F-value: 0.07663622526636238, p-value: 0.7824478364598434\n"
     ]
    }
   ],
   "source": [
    "df = load_data()\n",
    "\n",
    "user_acc = {\n",
    "    \"hs\": [],\n",
    "    \"others\": []\n",
    "}\n",
    "\n",
    "for index, row in df.iterrows():\n",
    "    count = 0\n",
    "    for i in range(1, 21):\n",
    "        if row[f\"{i}_ai\"] != row[f\"{i}_1\"] and row[f\"{i}_ai\"] == row[f\"{i}_2\"]: count += 1\n",
    "    if row['education'] in ['High school degree']:\n",
    "        user_acc['hs'].append(count)\n",
    "    else:\n",
    "        user_acc['others'].append(count)\n",
    "\n",
    "# Perform one-way ANOVA\n",
    "\n",
    "f_value, p_value = stats.f_oneway(user_acc['hs'], user_acc['others'])\n",
    "print(f\"F-value: {f_value}, p-value: {p_value}\")\n",
    "\n",
    "# f_value, p_value = stats.ttest_rel(user_acc['familiar'], user_acc['unfamiliar'])\n",
    "# print(f\"F-value: {f_value}, p-value: {p_value}\")"
   ]
  },
  {
   "cell_type": "code",
   "execution_count": null,
   "metadata": {},
   "outputs": [],
   "source": []
  }
 ],
 "metadata": {
  "kernelspec": {
   "display_name": "ml-general",
   "language": "python",
   "name": "python3"
  },
  "language_info": {
   "codemirror_mode": {
    "name": "ipython",
    "version": 3
   },
   "file_extension": ".py",
   "mimetype": "text/x-python",
   "name": "python",
   "nbconvert_exporter": "python",
   "pygments_lexer": "ipython3",
   "version": "3.10.13"
  }
 },
 "nbformat": 4,
 "nbformat_minor": 2
}
