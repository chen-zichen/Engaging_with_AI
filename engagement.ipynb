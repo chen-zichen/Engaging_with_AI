{
 "cells": [
  {
   "cell_type": "code",
   "execution_count": 1,
   "metadata": {},
   "outputs": [],
   "source": [
    "import pandas as pd\n",
    "from scipy.stats import wilcoxon\n",
    "from utils import *"
   ]
  },
  {
   "cell_type": "code",
   "execution_count": 5,
   "metadata": {},
   "outputs": [
    {
     "name": "stdout",
     "output_type": "stream",
     "text": [
      "Engagement change within one condition: comparing s1-s2 and s1-s3\n",
      "\n",
      "Condition: 1\n",
      "    s2 engagement change: mean = 0.1, std = 0.097183\n",
      "    s3 engagement change mean = 0.10833, std = 0.088585\n",
      "    Wilcoxon signed-rank test: p-value = 0.7759407911439111 \n",
      "\n",
      "Condition: 2\n",
      "    s2 engagement change: mean = 0.13889, std = 0.10077\n",
      "    s3 engagement change mean = 0.066667, std = 0.089753\n",
      "    Wilcoxon signed-rank test: p-value = 0.04851132121514041  *\n",
      "\n",
      "Condition: 3\n",
      "    s2 engagement change: mean = 0.18333, std = 0.1291\n",
      "    s3 engagement change mean = 0.033333, std = 0.044096\n",
      "    Wilcoxon signed-rank test: p-value = 0.0012012742056167606  *\n",
      "\n",
      "Condition: 4\n",
      "    s2 engagement change: mean = 0.072222, std = 0.078567\n",
      "    s3 engagement change mean = 0.0055556, std = 0.015713\n",
      "    Wilcoxon signed-rank test: p-value = 0.0062931240670787226  *\n",
      "\n",
      "Condition: 5\n",
      "    s2 engagement change: mean = 0.091667, std = 0.069222\n",
      "    s3 engagement change mean = 0.044444, std = 0.052411\n",
      "    Wilcoxon signed-rank test: p-value = 0.057779571123597245 \n",
      "\n",
      "Condition: 6\n",
      "    s2 engagement change: mean = 0.45556, std = 0.10787\n",
      "    s3 engagement change mean = 0.39444, std = 0.11889\n",
      "    Wilcoxon signed-rank test: p-value = 0.008805900994726905  *\n",
      "\n"
     ]
    },
    {
     "name": "stderr",
     "output_type": "stream",
     "text": [
      "/Users/Luo/anaconda3/envs/ml-general/lib/python3.10/site-packages/scipy/stats/_axis_nan_policy.py:531: UserWarning: Exact p-value calculation does not work if there are zeros. Switching to normal approximation.\n",
      "  res = hypotest_fun_out(*samples, **kwds)\n"
     ]
    }
   ],
   "source": [
    "df = load_data()\n",
    "\n",
    "print(\"Engagement change within one condition: comparing s1-s2 and s1-s3\")\n",
    "print()\n",
    "# Engagement within one condition: comparing s2 and s3\n",
    "for i in range(1, 7):\n",
    "    temp = df[df['condition'] == i]\n",
    "    print('Condition: ' + str(i))\n",
    "    change_rate_s2 = np.array([])\n",
    "    change_rate_s3 = np.array([])\n",
    "    for index, row in temp.iterrows():\n",
    "        s1_s2_diff = 0\n",
    "        s1_s3_diff = 0\n",
    "        ai_same_incorrect = 0\n",
    "        for q in range(1, 21):\n",
    "            if row[f'{q}_1'] != row[f'{q}_2']:\n",
    "                s1_s2_diff += 1\n",
    "            if row[f'{q}_2'] != row[f'{q}_3']:\n",
    "                s1_s3_diff += 1\n",
    "        change_rate_s2 = np.append(change_rate_s2, s1_s2_diff/20)\n",
    "        change_rate_s3 = np.append(change_rate_s3, s1_s3_diff/20)\n",
    "    # get standard deviation of pre and post scores\n",
    "    s2_mean = np.mean(change_rate_s2)\n",
    "    s3_mean = np.mean(change_rate_s3)\n",
    "    s2_std = np.std(change_rate_s2)\n",
    "    s3_std = np.std(change_rate_s3)\n",
    "    stat, p_value = wilcoxon(change_rate_s2, change_rate_s3)\n",
    "    sig = \" *\" if p_value < 0.05 else \"\"\n",
    "    \n",
    "    print(f\"    s2 engagement change: mean = {s2_mean:.5}, std = {s2_std:.5}\")\n",
    "    print(f\"    s3 engagement change mean = {s3_mean:.5}, std = {s3_std:.5}\")\n",
    "    print(f\"    Wilcoxon signed-rank test: p-value = {p_value} {sig}\")\n",
    "    print()\n",
    "\n"
   ]
  },
  {
   "cell_type": "code",
   "execution_count": null,
   "metadata": {},
   "outputs": [],
   "source": []
  }
 ],
 "metadata": {
  "kernelspec": {
   "display_name": "ml-general",
   "language": "python",
   "name": "python3"
  },
  "language_info": {
   "codemirror_mode": {
    "name": "ipython",
    "version": 3
   },
   "file_extension": ".py",
   "mimetype": "text/x-python",
   "name": "python",
   "nbconvert_exporter": "python",
   "pygments_lexer": "ipython3",
   "version": "3.10.13"
  }
 },
 "nbformat": 4,
 "nbformat_minor": 2
}
