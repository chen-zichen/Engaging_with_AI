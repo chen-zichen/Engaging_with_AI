{
 "cells": [
  {
   "cell_type": "code",
   "execution_count": 1,
   "metadata": {},
   "outputs": [],
   "source": [
    "import pandas as pd\n",
    "from utils import *\n",
    "CONDITION = 1"
   ]
  },
  {
   "cell_type": "code",
   "execution_count": 2,
   "metadata": {},
   "outputs": [
    {
     "name": "stdout",
     "output_type": "stream",
     "text": [
      "familiar_with_diabetes:\n",
      "Min: 1; Max: 6\n",
      "Mean: 3.6666666666666665\n",
      "Median: 4.0\n",
      "Standard Deviation: 1.7489492643904123\n",
      "\n",
      "age:\n",
      "Min: 24; Max: 63\n",
      "Mean: 38.333333333333336\n",
      "Median: 37.5\n",
      "Standard Deviation: 9.99411591593656\n",
      "\n"
     ]
    }
   ],
   "source": [
    "df = load_data()\n",
    "filtered_df = df[df['condition'] == CONDITION]\n",
    "cols = [\"familiar_with_diabetes\", \"age\"]\n",
    "user_summary(filtered_df, cols)\n",
    "\n",
    "# Categorize by groups\n",
    "# df = df[df['familiar_with_diabetes'] < 3]"
   ]
  },
  {
   "cell_type": "code",
   "execution_count": 3,
   "metadata": {},
   "outputs": [
    {
     "data": {
      "application/vnd.plotly.v1+json": {
       "config": {
        "plotlyServerURL": "https://plot.ly"
       },
       "data": [
        {
         "name": "gender",
         "type": "bar",
         "x": [
          "Man",
          "Nonbinary",
          "Woman"
         ],
         "xaxis": "x",
         "y": [
          9,
          1,
          8
         ],
         "yaxis": "y"
        },
        {
         "name": "education",
         "type": "bar",
         "x": [
          "College degree",
          "High school degree",
          "Master's degree",
          "PhD degree"
         ],
         "xaxis": "x2",
         "y": [
          8,
          6,
          2,
          2
         ],
         "yaxis": "y2"
        },
        {
         "name": "familiar_with_diabetes",
         "type": "bar",
         "x": [
          1,
          2,
          3,
          4,
          5,
          6
         ],
         "xaxis": "x3",
         "y": [
          2,
          4,
          2,
          4,
          2,
          4
         ],
         "yaxis": "y3"
        },
        {
         "name": "age",
         "type": "bar",
         "x": [
          24,
          25,
          26,
          29,
          32,
          34,
          35,
          36,
          39,
          42,
          44,
          45,
          46,
          47,
          49,
          63
         ],
         "xaxis": "x4",
         "y": [
          1,
          1,
          1,
          1,
          2,
          1,
          1,
          1,
          1,
          2,
          1,
          1,
          1,
          1,
          1,
          1
         ],
         "yaxis": "y4"
        }
       ],
       "layout": {
        "annotations": [
         {
          "font": {
           "size": 16
          },
          "showarrow": false,
          "text": "gender",
          "x": 0.225,
          "xanchor": "center",
          "xref": "paper",
          "y": 1,
          "yanchor": "bottom",
          "yref": "paper"
         },
         {
          "font": {
           "size": 16
          },
          "showarrow": false,
          "text": "education",
          "x": 0.775,
          "xanchor": "center",
          "xref": "paper",
          "y": 1,
          "yanchor": "bottom",
          "yref": "paper"
         },
         {
          "font": {
           "size": 16
          },
          "showarrow": false,
          "text": "familiar_with_diabetes",
          "x": 0.225,
          "xanchor": "center",
          "xref": "paper",
          "y": 0.375,
          "yanchor": "bottom",
          "yref": "paper"
         },
         {
          "font": {
           "size": 16
          },
          "showarrow": false,
          "text": "age",
          "x": 0.775,
          "xanchor": "center",
          "xref": "paper",
          "y": 0.375,
          "yanchor": "bottom",
          "yref": "paper"
         }
        ],
        "height": 600,
        "showlegend": false,
        "template": {
         "data": {
          "bar": [
           {
            "error_x": {
             "color": "#2a3f5f"
            },
            "error_y": {
             "color": "#2a3f5f"
            },
            "marker": {
             "line": {
              "color": "#E5ECF6",
              "width": 0.5
             },
             "pattern": {
              "fillmode": "overlay",
              "size": 10,
              "solidity": 0.2
             }
            },
            "type": "bar"
           }
          ],
          "barpolar": [
           {
            "marker": {
             "line": {
              "color": "#E5ECF6",
              "width": 0.5
             },
             "pattern": {
              "fillmode": "overlay",
              "size": 10,
              "solidity": 0.2
             }
            },
            "type": "barpolar"
           }
          ],
          "carpet": [
           {
            "aaxis": {
             "endlinecolor": "#2a3f5f",
             "gridcolor": "white",
             "linecolor": "white",
             "minorgridcolor": "white",
             "startlinecolor": "#2a3f5f"
            },
            "baxis": {
             "endlinecolor": "#2a3f5f",
             "gridcolor": "white",
             "linecolor": "white",
             "minorgridcolor": "white",
             "startlinecolor": "#2a3f5f"
            },
            "type": "carpet"
           }
          ],
          "choropleth": [
           {
            "colorbar": {
             "outlinewidth": 0,
             "ticks": ""
            },
            "type": "choropleth"
           }
          ],
          "contour": [
           {
            "colorbar": {
             "outlinewidth": 0,
             "ticks": ""
            },
            "colorscale": [
             [
              0,
              "#0d0887"
             ],
             [
              0.1111111111111111,
              "#46039f"
             ],
             [
              0.2222222222222222,
              "#7201a8"
             ],
             [
              0.3333333333333333,
              "#9c179e"
             ],
             [
              0.4444444444444444,
              "#bd3786"
             ],
             [
              0.5555555555555556,
              "#d8576b"
             ],
             [
              0.6666666666666666,
              "#ed7953"
             ],
             [
              0.7777777777777778,
              "#fb9f3a"
             ],
             [
              0.8888888888888888,
              "#fdca26"
             ],
             [
              1,
              "#f0f921"
             ]
            ],
            "type": "contour"
           }
          ],
          "contourcarpet": [
           {
            "colorbar": {
             "outlinewidth": 0,
             "ticks": ""
            },
            "type": "contourcarpet"
           }
          ],
          "heatmap": [
           {
            "colorbar": {
             "outlinewidth": 0,
             "ticks": ""
            },
            "colorscale": [
             [
              0,
              "#0d0887"
             ],
             [
              0.1111111111111111,
              "#46039f"
             ],
             [
              0.2222222222222222,
              "#7201a8"
             ],
             [
              0.3333333333333333,
              "#9c179e"
             ],
             [
              0.4444444444444444,
              "#bd3786"
             ],
             [
              0.5555555555555556,
              "#d8576b"
             ],
             [
              0.6666666666666666,
              "#ed7953"
             ],
             [
              0.7777777777777778,
              "#fb9f3a"
             ],
             [
              0.8888888888888888,
              "#fdca26"
             ],
             [
              1,
              "#f0f921"
             ]
            ],
            "type": "heatmap"
           }
          ],
          "heatmapgl": [
           {
            "colorbar": {
             "outlinewidth": 0,
             "ticks": ""
            },
            "colorscale": [
             [
              0,
              "#0d0887"
             ],
             [
              0.1111111111111111,
              "#46039f"
             ],
             [
              0.2222222222222222,
              "#7201a8"
             ],
             [
              0.3333333333333333,
              "#9c179e"
             ],
             [
              0.4444444444444444,
              "#bd3786"
             ],
             [
              0.5555555555555556,
              "#d8576b"
             ],
             [
              0.6666666666666666,
              "#ed7953"
             ],
             [
              0.7777777777777778,
              "#fb9f3a"
             ],
             [
              0.8888888888888888,
              "#fdca26"
             ],
             [
              1,
              "#f0f921"
             ]
            ],
            "type": "heatmapgl"
           }
          ],
          "histogram": [
           {
            "marker": {
             "pattern": {
              "fillmode": "overlay",
              "size": 10,
              "solidity": 0.2
             }
            },
            "type": "histogram"
           }
          ],
          "histogram2d": [
           {
            "colorbar": {
             "outlinewidth": 0,
             "ticks": ""
            },
            "colorscale": [
             [
              0,
              "#0d0887"
             ],
             [
              0.1111111111111111,
              "#46039f"
             ],
             [
              0.2222222222222222,
              "#7201a8"
             ],
             [
              0.3333333333333333,
              "#9c179e"
             ],
             [
              0.4444444444444444,
              "#bd3786"
             ],
             [
              0.5555555555555556,
              "#d8576b"
             ],
             [
              0.6666666666666666,
              "#ed7953"
             ],
             [
              0.7777777777777778,
              "#fb9f3a"
             ],
             [
              0.8888888888888888,
              "#fdca26"
             ],
             [
              1,
              "#f0f921"
             ]
            ],
            "type": "histogram2d"
           }
          ],
          "histogram2dcontour": [
           {
            "colorbar": {
             "outlinewidth": 0,
             "ticks": ""
            },
            "colorscale": [
             [
              0,
              "#0d0887"
             ],
             [
              0.1111111111111111,
              "#46039f"
             ],
             [
              0.2222222222222222,
              "#7201a8"
             ],
             [
              0.3333333333333333,
              "#9c179e"
             ],
             [
              0.4444444444444444,
              "#bd3786"
             ],
             [
              0.5555555555555556,
              "#d8576b"
             ],
             [
              0.6666666666666666,
              "#ed7953"
             ],
             [
              0.7777777777777778,
              "#fb9f3a"
             ],
             [
              0.8888888888888888,
              "#fdca26"
             ],
             [
              1,
              "#f0f921"
             ]
            ],
            "type": "histogram2dcontour"
           }
          ],
          "mesh3d": [
           {
            "colorbar": {
             "outlinewidth": 0,
             "ticks": ""
            },
            "type": "mesh3d"
           }
          ],
          "parcoords": [
           {
            "line": {
             "colorbar": {
              "outlinewidth": 0,
              "ticks": ""
             }
            },
            "type": "parcoords"
           }
          ],
          "pie": [
           {
            "automargin": true,
            "type": "pie"
           }
          ],
          "scatter": [
           {
            "fillpattern": {
             "fillmode": "overlay",
             "size": 10,
             "solidity": 0.2
            },
            "type": "scatter"
           }
          ],
          "scatter3d": [
           {
            "line": {
             "colorbar": {
              "outlinewidth": 0,
              "ticks": ""
             }
            },
            "marker": {
             "colorbar": {
              "outlinewidth": 0,
              "ticks": ""
             }
            },
            "type": "scatter3d"
           }
          ],
          "scattercarpet": [
           {
            "marker": {
             "colorbar": {
              "outlinewidth": 0,
              "ticks": ""
             }
            },
            "type": "scattercarpet"
           }
          ],
          "scattergeo": [
           {
            "marker": {
             "colorbar": {
              "outlinewidth": 0,
              "ticks": ""
             }
            },
            "type": "scattergeo"
           }
          ],
          "scattergl": [
           {
            "marker": {
             "colorbar": {
              "outlinewidth": 0,
              "ticks": ""
             }
            },
            "type": "scattergl"
           }
          ],
          "scattermapbox": [
           {
            "marker": {
             "colorbar": {
              "outlinewidth": 0,
              "ticks": ""
             }
            },
            "type": "scattermapbox"
           }
          ],
          "scatterpolar": [
           {
            "marker": {
             "colorbar": {
              "outlinewidth": 0,
              "ticks": ""
             }
            },
            "type": "scatterpolar"
           }
          ],
          "scatterpolargl": [
           {
            "marker": {
             "colorbar": {
              "outlinewidth": 0,
              "ticks": ""
             }
            },
            "type": "scatterpolargl"
           }
          ],
          "scatterternary": [
           {
            "marker": {
             "colorbar": {
              "outlinewidth": 0,
              "ticks": ""
             }
            },
            "type": "scatterternary"
           }
          ],
          "surface": [
           {
            "colorbar": {
             "outlinewidth": 0,
             "ticks": ""
            },
            "colorscale": [
             [
              0,
              "#0d0887"
             ],
             [
              0.1111111111111111,
              "#46039f"
             ],
             [
              0.2222222222222222,
              "#7201a8"
             ],
             [
              0.3333333333333333,
              "#9c179e"
             ],
             [
              0.4444444444444444,
              "#bd3786"
             ],
             [
              0.5555555555555556,
              "#d8576b"
             ],
             [
              0.6666666666666666,
              "#ed7953"
             ],
             [
              0.7777777777777778,
              "#fb9f3a"
             ],
             [
              0.8888888888888888,
              "#fdca26"
             ],
             [
              1,
              "#f0f921"
             ]
            ],
            "type": "surface"
           }
          ],
          "table": [
           {
            "cells": {
             "fill": {
              "color": "#EBF0F8"
             },
             "line": {
              "color": "white"
             }
            },
            "header": {
             "fill": {
              "color": "#C8D4E3"
             },
             "line": {
              "color": "white"
             }
            },
            "type": "table"
           }
          ]
         },
         "layout": {
          "annotationdefaults": {
           "arrowcolor": "#2a3f5f",
           "arrowhead": 0,
           "arrowwidth": 1
          },
          "autotypenumbers": "strict",
          "coloraxis": {
           "colorbar": {
            "outlinewidth": 0,
            "ticks": ""
           }
          },
          "colorscale": {
           "diverging": [
            [
             0,
             "#8e0152"
            ],
            [
             0.1,
             "#c51b7d"
            ],
            [
             0.2,
             "#de77ae"
            ],
            [
             0.3,
             "#f1b6da"
            ],
            [
             0.4,
             "#fde0ef"
            ],
            [
             0.5,
             "#f7f7f7"
            ],
            [
             0.6,
             "#e6f5d0"
            ],
            [
             0.7,
             "#b8e186"
            ],
            [
             0.8,
             "#7fbc41"
            ],
            [
             0.9,
             "#4d9221"
            ],
            [
             1,
             "#276419"
            ]
           ],
           "sequential": [
            [
             0,
             "#0d0887"
            ],
            [
             0.1111111111111111,
             "#46039f"
            ],
            [
             0.2222222222222222,
             "#7201a8"
            ],
            [
             0.3333333333333333,
             "#9c179e"
            ],
            [
             0.4444444444444444,
             "#bd3786"
            ],
            [
             0.5555555555555556,
             "#d8576b"
            ],
            [
             0.6666666666666666,
             "#ed7953"
            ],
            [
             0.7777777777777778,
             "#fb9f3a"
            ],
            [
             0.8888888888888888,
             "#fdca26"
            ],
            [
             1,
             "#f0f921"
            ]
           ],
           "sequentialminus": [
            [
             0,
             "#0d0887"
            ],
            [
             0.1111111111111111,
             "#46039f"
            ],
            [
             0.2222222222222222,
             "#7201a8"
            ],
            [
             0.3333333333333333,
             "#9c179e"
            ],
            [
             0.4444444444444444,
             "#bd3786"
            ],
            [
             0.5555555555555556,
             "#d8576b"
            ],
            [
             0.6666666666666666,
             "#ed7953"
            ],
            [
             0.7777777777777778,
             "#fb9f3a"
            ],
            [
             0.8888888888888888,
             "#fdca26"
            ],
            [
             1,
             "#f0f921"
            ]
           ]
          },
          "colorway": [
           "#636efa",
           "#EF553B",
           "#00cc96",
           "#ab63fa",
           "#FFA15A",
           "#19d3f3",
           "#FF6692",
           "#B6E880",
           "#FF97FF",
           "#FECB52"
          ],
          "font": {
           "color": "#2a3f5f"
          },
          "geo": {
           "bgcolor": "white",
           "lakecolor": "white",
           "landcolor": "#E5ECF6",
           "showlakes": true,
           "showland": true,
           "subunitcolor": "white"
          },
          "hoverlabel": {
           "align": "left"
          },
          "hovermode": "closest",
          "mapbox": {
           "style": "light"
          },
          "paper_bgcolor": "white",
          "plot_bgcolor": "#E5ECF6",
          "polar": {
           "angularaxis": {
            "gridcolor": "white",
            "linecolor": "white",
            "ticks": ""
           },
           "bgcolor": "#E5ECF6",
           "radialaxis": {
            "gridcolor": "white",
            "linecolor": "white",
            "ticks": ""
           }
          },
          "scene": {
           "xaxis": {
            "backgroundcolor": "#E5ECF6",
            "gridcolor": "white",
            "gridwidth": 2,
            "linecolor": "white",
            "showbackground": true,
            "ticks": "",
            "zerolinecolor": "white"
           },
           "yaxis": {
            "backgroundcolor": "#E5ECF6",
            "gridcolor": "white",
            "gridwidth": 2,
            "linecolor": "white",
            "showbackground": true,
            "ticks": "",
            "zerolinecolor": "white"
           },
           "zaxis": {
            "backgroundcolor": "#E5ECF6",
            "gridcolor": "white",
            "gridwidth": 2,
            "linecolor": "white",
            "showbackground": true,
            "ticks": "",
            "zerolinecolor": "white"
           }
          },
          "shapedefaults": {
           "line": {
            "color": "#2a3f5f"
           }
          },
          "ternary": {
           "aaxis": {
            "gridcolor": "white",
            "linecolor": "white",
            "ticks": ""
           },
           "baxis": {
            "gridcolor": "white",
            "linecolor": "white",
            "ticks": ""
           },
           "bgcolor": "#E5ECF6",
           "caxis": {
            "gridcolor": "white",
            "linecolor": "white",
            "ticks": ""
           }
          },
          "title": {
           "x": 0.05
          },
          "xaxis": {
           "automargin": true,
           "gridcolor": "white",
           "linecolor": "white",
           "ticks": "",
           "title": {
            "standoff": 15
           },
           "zerolinecolor": "white",
           "zerolinewidth": 2
          },
          "yaxis": {
           "automargin": true,
           "gridcolor": "white",
           "linecolor": "white",
           "ticks": "",
           "title": {
            "standoff": 15
           },
           "zerolinecolor": "white",
           "zerolinewidth": 2
          }
         }
        },
        "xaxis": {
         "anchor": "y",
         "domain": [
          0,
          0.45
         ],
         "tickangle": 25,
         "tickmode": "array",
         "ticktext": [
          "Man",
          "Nonbinary",
          "Woman"
         ],
         "tickvals": [
          "Man",
          "Nonbinary",
          "Woman"
         ]
        },
        "xaxis2": {
         "anchor": "y2",
         "domain": [
          0.55,
          1
         ],
         "tickangle": 25,
         "tickmode": "array",
         "ticktext": [
          "College degree",
          "High school degree",
          "Master's degree",
          "PhD degree"
         ],
         "tickvals": [
          "College degree",
          "High school degree",
          "Master's degree",
          "PhD degree"
         ]
        },
        "xaxis3": {
         "anchor": "y3",
         "domain": [
          0,
          0.45
         ],
         "tickangle": 25,
         "tickmode": "array",
         "ticktext": [
          "1",
          "2",
          "3",
          "4",
          "5",
          "6"
         ],
         "tickvals": [
          1,
          2,
          3,
          4,
          5,
          6
         ]
        },
        "xaxis4": {
         "anchor": "y4",
         "domain": [
          0.55,
          1
         ],
         "tickangle": 25,
         "tickmode": "array",
         "ticktext": [
          "24",
          "25",
          "26",
          "29",
          "32",
          "34",
          "35",
          "36",
          "39",
          "42",
          "44",
          "45",
          "46",
          "47",
          "49",
          "63"
         ],
         "tickvals": [
          24,
          25,
          26,
          29,
          32,
          34,
          35,
          36,
          39,
          42,
          44,
          45,
          46,
          47,
          49,
          63
         ]
        },
        "yaxis": {
         "anchor": "x",
         "domain": [
          0.625,
          1
         ]
        },
        "yaxis2": {
         "anchor": "x2",
         "domain": [
          0.625,
          1
         ]
        },
        "yaxis3": {
         "anchor": "x3",
         "domain": [
          0,
          0.375
         ]
        },
        "yaxis4": {
         "anchor": "x4",
         "domain": [
          0,
          0.375
         ]
        }
       }
      }
     },
     "metadata": {},
     "output_type": "display_data"
    }
   ],
   "source": [
    "# participants info\n",
    "\n",
    "filtered_df = df[df['condition'] == CONDITION]\n",
    "cols = [\"gender\", \"education\", \"familiar_with_diabetes\", \"age\"]\n",
    "\n",
    "num_columns = len(cols)\n",
    "num_rows = (num_columns + 1) // 2\n",
    "fig = make_subplots(rows=num_rows, cols=2, vertical_spacing=0.25, subplot_titles=cols)\n",
    "\n",
    "for i, column in enumerate(cols):\n",
    "    counts = filtered_df[column].value_counts().sort_index()\n",
    "    x_values = counts.index\n",
    "    y_values = counts.values\n",
    "    \n",
    "    row = i // 2 + 1\n",
    "    col = i % 2 + 1\n",
    "    \n",
    "    fig.add_trace(\n",
    "        go.Bar(x=x_values, y=y_values, name=column),\n",
    "        row=row, col=col,\n",
    "    )\n",
    "    fig.update_xaxes(\n",
    "        tickvals=x_values,\n",
    "        ticktext=[str(val) for val in x_values],\n",
    "        row=row, col=col,\n",
    "        tickangle=25,\n",
    "        tickmode='array'\n",
    "    )\n",
    "\n",
    "\n",
    "fig.update_layout(\n",
    "    height=300 * num_rows,\n",
    "    showlegend=False\n",
    ")\n",
    "\n",
    "fig.show()"
   ]
  },
  {
   "cell_type": "code",
   "execution_count": 4,
   "metadata": {},
   "outputs": [
    {
     "name": "stdout",
     "output_type": "stream",
     "text": [
      "{'step 1 acc': [15, 14, 13, 13, 14, 15, 13, 15, 15, 10, 19, 12, 11, 13, 14, 14, 11, 13], 'step 2 acc': [15, 15, 12, 13, 14, 12, 12, 14, 14, 10, 19, 12, 13, 11, 13, 14, 10, 13], 'step 3 acc': [15, 15, 15, 13, 13, 14, 13, 13, 14, 12, 16, 14, 14, 13, 14, 13, 10, 14]}\n",
      "Acc. grater than 75%: 4\n",
      "Acc. less than 50%: 1\n",
      "One-way ANOVA results:\n",
      "F-statistic: 0.3996779388083736\n",
      "p-value: 0.6726177549390693\n"
     ]
    },
    {
     "name": "stderr",
     "output_type": "stream",
     "text": [
      "/Users/Luo/Lab/projects/trust-data-analysis/utils.py:316: FutureWarning:\n",
      "\n",
      "\n",
      "\n",
      "The `ci` parameter is deprecated. Use `errorbar='sd'` for the same effect.\n",
      "\n",
      "\n"
     ]
    },
    {
     "name": "stdout",
     "output_type": "stream",
     "text": [
      "\n",
      "Tukey's HSD test results:\n",
      "    Multiple Comparison of Means - Tukey HSD, FWER=0.05    \n",
      "===========================================================\n",
      "  group1     group2   meandiff p-adj   lower  upper  reject\n",
      "-----------------------------------------------------------\n",
      "step 1 acc step 2 acc  -0.4444 0.7499 -1.9243 1.0354  False\n",
      "step 1 acc step 3 acc   0.0556 0.9955 -1.4243 1.5354  False\n",
      "step 2 acc step 3 acc      0.5 0.6952 -0.9799 1.9799  False\n",
      "-----------------------------------------------------------\n"
     ]
    },
    {
     "data": {
      "image/png": "[encoded data removed]",
      "text/plain": [
       "<Figure size 600x600 with 1 Axes>"
      ]
     },
     "metadata": {},
     "output_type": "display_data"
    }
   ],
   "source": [
    "# User Accuracies at Different Steps\n",
    "filtered_df = df[df['condition'] == CONDITION]\n",
    "\n",
    "\n",
    "user_acc = {\n",
    "    \"step 1 acc\": [],\n",
    "    \"step 2 acc\": [],\n",
    "    \"step 3 acc\": [],\n",
    "}\n",
    "\n",
    "for index, row in filtered_df.iterrows():\n",
    "    s1,s2,s3 = 0,0,0\n",
    "    for i in range(1, 21):\n",
    "        if row[f\"{i}_gt\"] == row[f\"{i}_1\"]: s1 += 1\n",
    "        if row[f\"{i}_gt\"] == row[f\"{i}_2\"]: s2 += 1\n",
    "        if row[f\"{i}_gt\"] == row[f\"{i}_3\"]: s3 += 1\n",
    "    user_acc[\"step 1 acc\"].append(s1)\n",
    "    user_acc[\"step 2 acc\"].append(s2)\n",
    "    user_acc[\"step 3 acc\"].append(s3)\n",
    "\n",
    "print(user_acc)\n",
    "print(f\"Acc. grater than 75%: {sum(1 for acc in user_acc['step 3 acc'] if acc >= 0.75 * 20)}\")\n",
    "print(f\"Acc. less than 50%: {sum(1 for acc in user_acc['step 3 acc'] if acc <= 0.5 * 20)}\")\n",
    "user_acc = pd.DataFrame(user_acc)\n",
    "plot_bar(user_acc, title=f\"User Accuracies at Different Steps for Condition {CONDITION}\")"
   ]
  },
  {
   "cell_type": "code",
   "execution_count": 5,
   "metadata": {},
   "outputs": [
    {
     "name": "stdout",
     "output_type": "stream",
     "text": [
      "{'acc s2 - s1': [0.0, 5.0, -5.0, 0.0, 0.0, -15.0, -5.0, -5.0, -5.0, 0.0, 0.0, 0.0, 9.999999999999993, -9.999999999999993, -5.0, 0.0, -5.000000000000007, 0.0], 'acc s3 - s2': [0.0, 0.0, 15.0, 0.0, -5.0, 10.0, 5.0, -5.0, 0.0, 10.0, -15.0, 10.0, 5.0, 9.999999999999993, 5.0, -5.0, 0.0, 5.0], 'acc s3 - s1': [0.0, 5.0, 10.0, 0.0, -5.0, -5.0, 0.0, -10.0, -5.0, 10.0, -15.0, 10.0, 14.999999999999993, 0.0, 0.0, -5.0, -5.000000000000007, 5.0]}\n",
      "One-way ANOVA results:\n",
      "F-statistic: 2.093643586833145\n",
      "p-value: 0.13370381986747162\n"
     ]
    },
    {
     "name": "stderr",
     "output_type": "stream",
     "text": [
      "/Users/Luo/Lab/projects/trust-data-analysis/utils.py:316: FutureWarning:\n",
      "\n",
      "\n",
      "\n",
      "The `ci` parameter is deprecated. Use `errorbar='sd'` for the same effect.\n",
      "\n",
      "\n"
     ]
    },
    {
     "name": "stdout",
     "output_type": "stream",
     "text": [
      "\n",
      "Tukey's HSD test results:\n",
      "     Multiple Comparison of Means - Tukey HSD, FWER=0.05      \n",
      "==============================================================\n",
      "   group1      group2   meandiff p-adj   lower   upper  reject\n",
      "--------------------------------------------------------------\n",
      "acc s2 - s1 acc s3 - s1      2.5  0.529  -3.074   8.074  False\n",
      "acc s2 - s1 acc s3 - s2   4.7222 0.1118 -0.8517 10.2962  False\n",
      "acc s3 - s1 acc s3 - s2   2.2222 0.6037 -3.3517  7.7962  False\n",
      "--------------------------------------------------------------\n"
     ]
    },
    {
     "data": {
      "image/png": "[encoded data removed]",
      "text/plain": [
       "<Figure size 600x600 with 1 Axes>"
      ]
     },
     "metadata": {},
     "output_type": "display_data"
    }
   ],
   "source": [
    "# user acc change (in percentage) from s1 - s2 and s2 - s3\n",
    "\n",
    "filtered_df = df[df['condition'] == CONDITION]\n",
    "\n",
    "data = {\n",
    "    \"acc s2 - s1\": [],\n",
    "    \"acc s3 - s2\": [],\n",
    "    \"acc s3 - s1\": [],\n",
    "}\n",
    "\n",
    "for index, row in filtered_df.iterrows():\n",
    "    s1,s2,s3 = 0,0,0\n",
    "    for i in range(1, 21):\n",
    "        if row[f\"{i}_gt\"] == row[f\"{i}_1\"]: s1 += 1\n",
    "        if row[f\"{i}_gt\"] == row[f\"{i}_2\"]: s2 += 1\n",
    "        if row[f\"{i}_gt\"] == row[f\"{i}_3\"]: s3 += 1\n",
    "    data[\"acc s2 - s1\"].append((s2/20)*100-(s1/20)*100)\n",
    "    data[\"acc s3 - s2\"].append((s3/20)*100-(s2/20)*100)\n",
    "    data[\"acc s3 - s1\"].append((s3/20)*100-(s1/20)*100)\n",
    "\n",
    "print(data)\n",
    "data = pd.DataFrame(data)\n",
    "plot_bar(data, title=f\"User Accuracies Change from Step 1 to Step 2 and Step 2 to Step 3 for Condition {CONDITION}\")"
   ]
  },
  {
   "cell_type": "code",
   "execution_count": 6,
   "metadata": {},
   "outputs": [
    {
     "name": "stdout",
     "output_type": "stream",
     "text": [
      "{'step 1-2 change': [2, 1, 1, 0, 4, 3, 1, 3, 7, 0, 0, 4, 4, 4, 1, 0, 1, 0], 'step 2-3 change': [2, 0, 5, 4, 1, 2, 1, 5, 0, 6, 3, 2, 1, 2, 1, 1, 0, 3]}\n",
      "One-way ANOVA results:\n",
      "F-statistic: 0.06827309236947796\n",
      "p-value: 0.795444268771526\n"
     ]
    },
    {
     "name": "stderr",
     "output_type": "stream",
     "text": [
      "/Users/Luo/Lab/projects/trust-data-analysis/utils.py:316: FutureWarning:\n",
      "\n",
      "\n",
      "\n",
      "The `ci` parameter is deprecated. Use `errorbar='sd'` for the same effect.\n",
      "\n",
      "\n"
     ]
    },
    {
     "name": "stdout",
     "output_type": "stream",
     "text": [
      "\n",
      "Tukey's HSD test results:\n",
      "         Multiple Comparison of Means - Tukey HSD, FWER=0.05         \n",
      "=====================================================================\n",
      "     group1          group2     meandiff p-adj   lower  upper  reject\n",
      "---------------------------------------------------------------------\n",
      "step 1-2 change step 2-3 change   0.1667 0.7954 -1.1296 1.4629  False\n",
      "---------------------------------------------------------------------\n"
     ]
    },
    {
     "data": {
      "image/png": "[encoded data removed]",
      "text/plain": [
       "<Figure size 600x600 with 1 Axes>"
      ]
     },
     "metadata": {},
     "output_type": "display_data"
    }
   ],
   "source": [
    "# User change answer from step 1-2 and step 2-3\n",
    "\n",
    "filtered_df = df[df['condition'] == CONDITION]\n",
    "\n",
    "data = {\n",
    "    \"step 1-2 change\": [],\n",
    "    \"step 2-3 change\": []\n",
    "}\n",
    "\n",
    "for index, row in filtered_df.iterrows():\n",
    "    s12,s23 = 0,0\n",
    "    for i in range(1, 21):\n",
    "        if row[f'{i}_1'] != row[f'{i}_2']: s12 += 1\n",
    "        if row[f'{i}_2'] != row[f'{i}_3']: s23 += 1\n",
    "    data[\"step 1-2 change\"].append(s12)\n",
    "    data[\"step 2-3 change\"].append(s23)\n",
    "\n",
    "print(data)\n",
    "data = pd.DataFrame(data)\n",
    "plot_bar(data, title=f\"User Change Answer from Step 1 to Step 2 and Step 2 to Step 3 for Condition {CONDITION}\")"
   ]
  },
  {
   "cell_type": "code",
   "execution_count": 7,
   "metadata": {},
   "outputs": [
    {
     "name": "stdout",
     "output_type": "stream",
     "text": [
      "{'step 1 follow': [15, 16, 13, 15, 14, 15, 13, 13, 13, 10, 15, 14, 15, 13, 14, 16, 13, 17], 'step 2 follow': [17, 17, 14, 15, 18, 18, 14, 16, 20, 10, 15, 16, 19, 17, 15, 16, 14, 17], 'step 3 follow': [19, 17, 17, 17, 19, 18, 15, 17, 20, 14, 18, 18, 20, 19, 16, 15, 14, 18]}\n",
      "One-way ANOVA results:\n",
      "F-statistic: 12.173875181422355\n",
      "p-value: 4.761536190362848e-05\n"
     ]
    },
    {
     "name": "stderr",
     "output_type": "stream",
     "text": [
      "/Users/Luo/Lab/projects/trust-data-analysis/utils.py:316: FutureWarning:\n",
      "\n",
      "\n",
      "\n",
      "The `ci` parameter is deprecated. Use `errorbar='sd'` for the same effect.\n",
      "\n",
      "\n"
     ]
    },
    {
     "name": "stdout",
     "output_type": "stream",
     "text": [
      "\n",
      "Tukey's HSD test results:\n",
      "      Multiple Comparison of Means - Tukey HSD, FWER=0.05       \n",
      "================================================================\n",
      "    group1        group2    meandiff p-adj  lower  upper  reject\n",
      "----------------------------------------------------------------\n",
      "step 1 follow step 2 follow   1.8889  0.014 0.3301 3.4477   True\n",
      "step 1 follow step 3 follow   3.1667    0.0 1.6079 4.7254   True\n",
      "step 2 follow step 3 follow   1.2778 0.1278 -0.281 2.8366  False\n",
      "----------------------------------------------------------------\n"
     ]
    },
    {
     "data": {
      "image/png": "[encoded data removed]",
      "text/plain": [
       "<Figure size 600x600 with 1 Axes>"
      ]
     },
     "metadata": {},
     "output_type": "display_data"
    }
   ],
   "source": [
    "# user follow AI ans\n",
    "\n",
    "filtered_df = df[df['condition'] == CONDITION]\n",
    "\n",
    "data = {\n",
    "    \"step 1 follow\": [],\n",
    "    \"step 2 follow\": [],\n",
    "    \"step 3 follow\": []\n",
    "}\n",
    "\n",
    "for index, row in filtered_df.iterrows():\n",
    "    s1,s2,s3 = 0,0,0\n",
    "    for i in range(1, 21):\n",
    "        if row[f\"{i}_ai\"] == row[f\"{i}_1\"]: s1 += 1\n",
    "        if row[f\"{i}_ai\"] == row[f\"{i}_2\"]: s2 += 1\n",
    "        if row[f\"{i}_ai\"] == row[f\"{i}_3\"]: s3 += 1\n",
    "    data[\"step 1 follow\"].append(s1)\n",
    "    data[\"step 2 follow\"].append(s2)\n",
    "    data[\"step 3 follow\"].append(s3)\n",
    "\n",
    "print(data)\n",
    "data = pd.DataFrame(data)\n",
    "plot_bar(data, title=f\"User Follow AI Answer at Different Steps for Condition {CONDITION}\")"
   ]
  },
  {
   "cell_type": "code",
   "execution_count": 8,
   "metadata": {},
   "outputs": [
    {
     "name": "stdout",
     "output_type": "stream",
     "text": [
      "Wilcoxon signed-rank test results:\n",
      "pre_satisfaction vs post_satisfaction: statistic = 9.0, p-value = 0.049558383092979504\n"
     ]
    },
    {
     "name": "stderr",
     "output_type": "stream",
     "text": [
      "/Users/Luo/Lab/projects/trust-data-analysis/utils.py:359: FutureWarning:\n",
      "\n",
      "\n",
      "\n",
      "The `ci` parameter is deprecated. Use `errorbar='sd'` for the same effect.\n",
      "\n",
      "\n",
      "/Users/Luo/anaconda3/envs/ml-general/lib/python3.10/site-packages/scipy/stats/_axis_nan_policy.py:531: UserWarning:\n",
      "\n",
      "Exact p-value calculation does not work if there are zeros. Switching to normal approximation.\n",
      "\n"
     ]
    },
    {
     "data": {
      "image/png": "[encoded data removed]",
      "text/plain": [
       "<Figure size 600x600 with 1 Axes>"
      ]
     },
     "metadata": {},
     "output_type": "display_data"
    },
    {
     "name": "stdout",
     "output_type": "stream",
     "text": [
      "Wilcoxon signed-rank test results:\n",
      "pre_complexity vs post_complexity: statistic = 28.0, p-value = 0.3738433266021559\n"
     ]
    },
    {
     "name": "stderr",
     "output_type": "stream",
     "text": [
      "/Users/Luo/Lab/projects/trust-data-analysis/utils.py:359: FutureWarning:\n",
      "\n",
      "\n",
      "\n",
      "The `ci` parameter is deprecated. Use `errorbar='sd'` for the same effect.\n",
      "\n",
      "\n",
      "/Users/Luo/anaconda3/envs/ml-general/lib/python3.10/site-packages/scipy/stats/_axis_nan_policy.py:531: UserWarning:\n",
      "\n",
      "Exact p-value calculation does not work if there are zeros. Switching to normal approximation.\n",
      "\n"
     ]
    },
    {
     "data": {
      "image/png": "[encoded data removed]",
      "text/plain": [
       "<Figure size 600x600 with 1 Axes>"
      ]
     },
     "metadata": {},
     "output_type": "display_data"
    },
    {
     "name": "stderr",
     "output_type": "stream",
     "text": [
      "/Users/Luo/Lab/projects/trust-data-analysis/utils.py:359: FutureWarning:\n",
      "\n",
      "\n",
      "\n",
      "The `ci` parameter is deprecated. Use `errorbar='sd'` for the same effect.\n",
      "\n",
      "\n",
      "/Users/Luo/anaconda3/envs/ml-general/lib/python3.10/site-packages/scipy/stats/_axis_nan_policy.py:531: UserWarning:\n",
      "\n",
      "Exact p-value calculation does not work if there are zeros. Switching to normal approximation.\n",
      "\n"
     ]
    },
    {
     "name": "stdout",
     "output_type": "stream",
     "text": [
      "Wilcoxon signed-rank test results:\n",
      "pre_reliability vs post_reliability: statistic = 5.0, p-value = 0.0050430226038068\n"
     ]
    },
    {
     "data": {
      "image/png": "[encoded data removed]",
      "text/plain": [
       "<Figure size 600x600 with 1 Axes>"
      ]
     },
     "metadata": {},
     "output_type": "display_data"
    },
    {
     "name": "stdout",
     "output_type": "stream",
     "text": [
      "Wilcoxon signed-rank test results:\n",
      "pre_trust vs post_trust: statistic = 40.0, p-value = 0.42046560014359935\n"
     ]
    },
    {
     "name": "stderr",
     "output_type": "stream",
     "text": [
      "/Users/Luo/Lab/projects/trust-data-analysis/utils.py:359: FutureWarning:\n",
      "\n",
      "\n",
      "\n",
      "The `ci` parameter is deprecated. Use `errorbar='sd'` for the same effect.\n",
      "\n",
      "\n",
      "/Users/Luo/anaconda3/envs/ml-general/lib/python3.10/site-packages/scipy/stats/_axis_nan_policy.py:531: UserWarning:\n",
      "\n",
      "Exact p-value calculation does not work if there are zeros. Switching to normal approximation.\n",
      "\n"
     ]
    },
    {
     "data": {
      "image/png": "[encoded data removed]",
      "text/plain": [
       "<Figure size 600x600 with 1 Axes>"
      ]
     },
     "metadata": {},
     "output_type": "display_data"
    },
    {
     "name": "stderr",
     "output_type": "stream",
     "text": [
      "/Users/Luo/Lab/projects/trust-data-analysis/utils.py:359: FutureWarning:\n",
      "\n",
      "\n",
      "\n",
      "The `ci` parameter is deprecated. Use `errorbar='sd'` for the same effect.\n",
      "\n",
      "\n",
      "/Users/Luo/anaconda3/envs/ml-general/lib/python3.10/site-packages/scipy/stats/_axis_nan_policy.py:531: UserWarning:\n",
      "\n",
      "Exact p-value calculation does not work if there are zeros. Switching to normal approximation.\n",
      "\n"
     ]
    },
    {
     "name": "stdout",
     "output_type": "stream",
     "text": [
      "Wilcoxon signed-rank test results:\n",
      "pre_accurate vs post_accurate: statistic = 28.0, p-value = 0.16551785869747015\n"
     ]
    },
    {
     "data": {
      "image/png": "[encoded data removed]",
      "text/plain": [
       "<Figure size 600x600 with 1 Axes>"
      ]
     },
     "metadata": {},
     "output_type": "display_data"
    }
   ],
   "source": [
    "# Survey\n",
    "\n",
    "survey = ['satisfaction', 'complexity', 'reliability', 'trust', 'accurate']\n",
    "\n",
    "for s in survey:\n",
    "    data = {\n",
    "        f\"pre_{s}\": [],\n",
    "        f\"post_{s}\": []\n",
    "    }\n",
    "\n",
    "    for index, row in filtered_df.iterrows():\n",
    "        data[f\"pre_{s}\"].append(row[f\"pre_{s}\"])\n",
    "        data[f\"post_{s}\"].append(row[f\"post_{s}\"])\n",
    "    data = pd.DataFrame(data)\n",
    "    plot_bar_wilcoxon(data, title=f\"{s} Survey {s} for Condition {CONDITION}\")"
   ]
  },
  {
   "cell_type": "code",
   "execution_count": null,
   "metadata": {},
   "outputs": [
    {
     "data": {
      "application/vnd.plotly.v1+json": {
       "config": {
        "plotlyServerURL": "https://plot.ly"
       },
       "data": [
        {
         "arrangement": "freeform",
         "dimensions": [
          {
           "categoryarray": [
            true,
            false
           ],
           "label": "s1 correctness",
           "values": [
            true,
            true,
            true,
            false,
            true,
            true,
            true,
            true,
            true,
            true,
            false,
            true,
            true,
            true,
            true,
            true,
            true,
            true,
            true,
            false,
            true,
            true,
            true,
            true,
            false,
            true,
            true,
            true,
            true,
            true,
            true,
            false,
            true,
            false,
            false,
            true,
            true,
            true,
            false,
            true,
            true,
            true,
            false,
            false,
            true,
            true,
            true,
            true,
            true,
            true,
            true,
            true,
            false,
            true,
            true,
            true,
            true,
            true,
            true,
            true,
            true,
            false,
            true,
            true,
            true,
            true,
            false,
            true,
            true,
            false,
            true,
            true,
            true,
            true,
            true,
            false,
            true,
            true,
            true,
            true,
            false,
            true,
            true,
            true,
            true,
            true,
            true,
            true,
            false,
            false,
            true,
            true,
            true,
            true,
            false,
            true,
            false,
            true,
            true,
            true,
            false,
            false,
            true,
            false,
            true,
            true,
            true,
            true,
            true,
            true,
            true,
            true,
            true,
            true,
            true,
            true,
            false,
            false,
            true,
            true,
            true,
            true,
            false,
            true,
            true,
            true,
            true,
            false,
            true,
            true,
            true,
            false,
            true,
            false,
            true,
            false,
            true,
            false,
            false,
            false,
            true,
            true,
            true,
            true,
            true,
            true,
            true,
            true,
            true,
            true,
            true,
            true,
            true,
            true,
            true,
            true,
            true,
            true,
            true,
            true,
            true,
            true,
            false,
            false,
            false,
            true,
            false,
            true,
            true,
            true,
            true,
            true,
            false,
            false,
            true,
            true,
            true,
            true,
            false,
            true,
            false,
            true,
            true,
            true,
            true,
            true,
            false,
            false,
            true,
            true,
            true,
            false,
            false,
            true,
            true,
            true,
            true,
            true,
            true,
            false,
            true,
            false,
            true,
            true,
            true,
            true,
            false,
            true,
            true,
            true,
            true,
            true,
            true,
            true,
            false,
            true,
            true,
            true,
            true,
            true,
            false,
            true,
            true,
            true,
            true,
            true,
            false,
            true,
            false,
            false,
            true,
            true,
            false,
            true,
            true,
            true,
            false,
            true,
            true,
            true,
            true,
            true,
            true,
            false,
            true,
            true,
            true,
            true,
            false,
            true,
            true,
            true
           ]
          },
          {
           "categoryarray": [
            true,
            false
           ],
           "label": "s2 correctness",
           "values": [
            true,
            true,
            true,
            false,
            true,
            true,
            true,
            true,
            true,
            true,
            true,
            true,
            true,
            true,
            true,
            true,
            true,
            true,
            true,
            false,
            true,
            true,
            true,
            true,
            true,
            true,
            true,
            true,
            true,
            true,
            true,
            false,
            true,
            false,
            false,
            true,
            true,
            true,
            false,
            true,
            true,
            true,
            false,
            false,
            true,
            true,
            true,
            true,
            true,
            true,
            true,
            true,
            false,
            true,
            true,
            true,
            true,
            true,
            true,
            true,
            true,
            true,
            true,
            true,
            true,
            true,
            false,
            true,
            true,
            true,
            true,
            true,
            true,
            true,
            true,
            false,
            true,
            true,
            true,
            true,
            false,
            true,
            true,
            true,
            true,
            true,
            true,
            true,
            false,
            false,
            true,
            true,
            true,
            true,
            false,
            true,
            false,
            true,
            true,
            true,
            false,
            true,
            true,
            false,
            true,
            true,
            true,
            true,
            true,
            true,
            true,
            true,
            true,
            true,
            true,
            true,
            true,
            true,
            true,
            true,
            true,
            true,
            true,
            true,
            true,
            true,
            true,
            false,
            true,
            true,
            true,
            false,
            true,
            false,
            true,
            false,
            true,
            false,
            false,
            false,
            true,
            true,
            true,
            true,
            true,
            true,
            true,
            true,
            true,
            true,
            true,
            true,
            true,
            true,
            true,
            true,
            true,
            true,
            true,
            false,
            true,
            true,
            false,
            true,
            false,
            true,
            true,
            true,
            true,
            true,
            true,
            true,
            true,
            true,
            true,
            true,
            true,
            true,
            false,
            true,
            true,
            true,
            true,
            true,
            true,
            true,
            false,
            true,
            true,
            true,
            true,
            false,
            false,
            true,
            true,
            true,
            true,
            true,
            true,
            false,
            true,
            false,
            true,
            true,
            true,
            true,
            false,
            true,
            true,
            true,
            true,
            true,
            true,
            true,
            false,
            true,
            true,
            true,
            true,
            true,
            false,
            true,
            true,
            true,
            true,
            true,
            false,
            true,
            false,
            false,
            true,
            true,
            false,
            true,
            true,
            true,
            false,
            true,
            true,
            true,
            true,
            true,
            true,
            false,
            true,
            true,
            true,
            true,
            false,
            true,
            true,
            true
           ]
          },
          {
           "categoryarray": [
            true,
            false
           ],
           "label": "s3 correctness",
           "ticktext": [
            "True",
            "False"
           ],
           "values": [
            true,
            true,
            true,
            true,
            true,
            true,
            true,
            true,
            true,
            true,
            true,
            true,
            true,
            true,
            true,
            true,
            true,
            true,
            true,
            false,
            true,
            true,
            true,
            true,
            true,
            true,
            true,
            true,
            true,
            true,
            true,
            true,
            true,
            true,
            true,
            true,
            true,
            true,
            false,
            true,
            true,
            true,
            true,
            true,
            true,
            true,
            true,
            true,
            false,
            true,
            true,
            true,
            false,
            true,
            true,
            true,
            true,
            true,
            true,
            true,
            true,
            true,
            true,
            true,
            true,
            true,
            false,
            true,
            true,
            true,
            true,
            true,
            true,
            true,
            true,
            true,
            true,
            true,
            true,
            true,
            false,
            true,
            true,
            true,
            true,
            true,
            true,
            true,
            false,
            false,
            true,
            true,
            true,
            true,
            true,
            true,
            false,
            true,
            true,
            true,
            true,
            true,
            false,
            false,
            true,
            true,
            true,
            true,
            true,
            true,
            true,
            true,
            true,
            true,
            true,
            true,
            true,
            true,
            true,
            true,
            true,
            true,
            true,
            true,
            true,
            true,
            true,
            false,
            true,
            true,
            true,
            true,
            false,
            true,
            true,
            false,
            true,
            true,
            false,
            true,
            true,
            true,
            true,
            true,
            true,
            true,
            true,
            true,
            true,
            true,
            true,
            true,
            true,
            true,
            true,
            true,
            true,
            true,
            true,
            true,
            true,
            true,
            true,
            true,
            false,
            true,
            true,
            true,
            true,
            true,
            true,
            true,
            true,
            true,
            true,
            true,
            true,
            true,
            true,
            true,
            true,
            true,
            true,
            true,
            true,
            true,
            true,
            true,
            true,
            true,
            true,
            true,
            false,
            true,
            true,
            true,
            true,
            true,
            true,
            true,
            true,
            false,
            true,
            true,
            true,
            true,
            false,
            true,
            true,
            true,
            true,
            true,
            true,
            true,
            false,
            false,
            true,
            true,
            true,
            true,
            false,
            true,
            true,
            true,
            true,
            true,
            false,
            true,
            false,
            false,
            true,
            true,
            false,
            true,
            true,
            true,
            false,
            true,
            true,
            true,
            true,
            true,
            true,
            false,
            true,
            true,
            true,
            true,
            true,
            true,
            true,
            true
           ]
          }
         ],
         "hoverinfo": "count+probability",
         "hoveron": "color",
         "labelfont": {
          "family": "Times",
          "size": 18
         },
         "line": {
          "color": [
           1,
           1,
           1,
           1,
           1,
           1,
           1,
           1,
           1,
           1,
           1,
           1,
           1,
           1,
           1,
           1,
           1,
           1,
           1,
           0,
           1,
           1,
           1,
           1,
           1,
           1,
           1,
           1,
           1,
           1,
           1,
           1,
           1,
           1,
           1,
           1,
           1,
           1,
           0,
           1,
           1,
           1,
           1,
           1,
           1,
           1,
           1,
           1,
           0,
           1,
           1,
           1,
           0,
           1,
           1,
           1,
           1,
           1,
           1,
           1,
           1,
           1,
           1,
           1,
           1,
           1,
           0,
           1,
           1,
           1,
           1,
           1,
           1,
           1,
           1,
           1,
           1,
           1,
           1,
           1,
           0,
           1,
           1,
           1,
           1,
           1,
           1,
           1,
           0,
           0,
           1,
           1,
           1,
           1,
           1,
           1,
           0,
           1,
           1,
           1,
           1,
           1,
           0,
           0,
           1,
           1,
           1,
           1,
           1,
           1,
           1,
           1,
           1,
           1,
           1,
           1,
           1,
           1,
           1,
           1,
           1,
           1,
           1,
           1,
           1,
           1,
           1,
           0,
           1,
           1,
           1,
           1,
           0,
           1,
           1,
           0,
           1,
           1,
           0,
           1,
           1,
           1,
           1,
           1,
           1,
           1,
           1,
           1,
           1,
           1,
           1,
           1,
           1,
           1,
           1,
           1,
           1,
           1,
           1,
           1,
           1,
           1,
           1,
           1,
           0,
           1,
           1,
           1,
           1,
           1,
           1,
           1,
           1,
           1,
           1,
           1,
           1,
           1,
           1,
           1,
           1,
           1,
           1,
           1,
           1,
           1,
           1,
           1,
           1,
           1,
           1,
           1,
           0,
           1,
           1,
           1,
           1,
           1,
           1,
           1,
           1,
           0,
           1,
           1,
           1,
           1,
           0,
           1,
           1,
           1,
           1,
           1,
           1,
           1,
           0,
           0,
           1,
           1,
           1,
           1,
           0,
           1,
           1,
           1,
           1,
           1,
           0,
           1,
           0,
           0,
           1,
           1,
           0,
           1,
           1,
           1,
           0,
           1,
           1,
           1,
           1,
           1,
           1,
           0,
           1,
           1,
           1,
           1,
           1,
           1,
           1,
           1
          ],
          "colorscale": [
           [
            0,
            "lightsteelblue"
           ],
           [
            1,
            "mediumseagreen"
           ]
          ]
         },
         "tickfont": {
          "family": "Times",
          "size": 16
         },
         "type": "parcats"
        }
       ],
       "layout": {
        "template": {
         "data": {
          "bar": [
           {
            "error_x": {
             "color": "#2a3f5f"
            },
            "error_y": {
             "color": "#2a3f5f"
            },
            "marker": {
             "line": {
              "color": "#E5ECF6",
              "width": 0.5
             },
             "pattern": {
              "fillmode": "overlay",
              "size": 10,
              "solidity": 0.2
             }
            },
            "type": "bar"
           }
          ],
          "barpolar": [
           {
            "marker": {
             "line": {
              "color": "#E5ECF6",
              "width": 0.5
             },
             "pattern": {
              "fillmode": "overlay",
              "size": 10,
              "solidity": 0.2
             }
            },
            "type": "barpolar"
           }
          ],
          "carpet": [
           {
            "aaxis": {
             "endlinecolor": "#2a3f5f",
             "gridcolor": "white",
             "linecolor": "white",
             "minorgridcolor": "white",
             "startlinecolor": "#2a3f5f"
            },
            "baxis": {
             "endlinecolor": "#2a3f5f",
             "gridcolor": "white",
             "linecolor": "white",
             "minorgridcolor": "white",
             "startlinecolor": "#2a3f5f"
            },
            "type": "carpet"
           }
          ],
          "choropleth": [
           {
            "colorbar": {
             "outlinewidth": 0,
             "ticks": ""
            },
            "type": "choropleth"
           }
          ],
          "contour": [
           {
            "colorbar": {
             "outlinewidth": 0,
             "ticks": ""
            },
            "colorscale": [
             [
              0,
              "#0d0887"
             ],
             [
              0.1111111111111111,
              "#46039f"
             ],
             [
              0.2222222222222222,
              "#7201a8"
             ],
             [
              0.3333333333333333,
              "#9c179e"
             ],
             [
              0.4444444444444444,
              "#bd3786"
             ],
             [
              0.5555555555555556,
              "#d8576b"
             ],
             [
              0.6666666666666666,
              "#ed7953"
             ],
             [
              0.7777777777777778,
              "#fb9f3a"
             ],
             [
              0.8888888888888888,
              "#fdca26"
             ],
             [
              1,
              "#f0f921"
             ]
            ],
            "type": "contour"
           }
          ],
          "contourcarpet": [
           {
            "colorbar": {
             "outlinewidth": 0,
             "ticks": ""
            },
            "type": "contourcarpet"
           }
          ],
          "heatmap": [
           {
            "colorbar": {
             "outlinewidth": 0,
             "ticks": ""
            },
            "colorscale": [
             [
              0,
              "#0d0887"
             ],
             [
              0.1111111111111111,
              "#46039f"
             ],
             [
              0.2222222222222222,
              "#7201a8"
             ],
             [
              0.3333333333333333,
              "#9c179e"
             ],
             [
              0.4444444444444444,
              "#bd3786"
             ],
             [
              0.5555555555555556,
              "#d8576b"
             ],
             [
              0.6666666666666666,
              "#ed7953"
             ],
             [
              0.7777777777777778,
              "#fb9f3a"
             ],
             [
              0.8888888888888888,
              "#fdca26"
             ],
             [
              1,
              "#f0f921"
             ]
            ],
            "type": "heatmap"
           }
          ],
          "heatmapgl": [
           {
            "colorbar": {
             "outlinewidth": 0,
             "ticks": ""
            },
            "colorscale": [
             [
              0,
              "#0d0887"
             ],
             [
              0.1111111111111111,
              "#46039f"
             ],
             [
              0.2222222222222222,
              "#7201a8"
             ],
             [
              0.3333333333333333,
              "#9c179e"
             ],
             [
              0.4444444444444444,
              "#bd3786"
             ],
             [
              0.5555555555555556,
              "#d8576b"
             ],
             [
              0.6666666666666666,
              "#ed7953"
             ],
             [
              0.7777777777777778,
              "#fb9f3a"
             ],
             [
              0.8888888888888888,
              "#fdca26"
             ],
             [
              1,
              "#f0f921"
             ]
            ],
            "type": "heatmapgl"
           }
          ],
          "histogram": [
           {
            "marker": {
             "pattern": {
              "fillmode": "overlay",
              "size": 10,
              "solidity": 0.2
             }
            },
            "type": "histogram"
           }
          ],
          "histogram2d": [
           {
            "colorbar": {
             "outlinewidth": 0,
             "ticks": ""
            },
            "colorscale": [
             [
              0,
              "#0d0887"
             ],
             [
              0.1111111111111111,
              "#46039f"
             ],
             [
              0.2222222222222222,
              "#7201a8"
             ],
             [
              0.3333333333333333,
              "#9c179e"
             ],
             [
              0.4444444444444444,
              "#bd3786"
             ],
             [
              0.5555555555555556,
              "#d8576b"
             ],
             [
              0.6666666666666666,
              "#ed7953"
             ],
             [
              0.7777777777777778,
              "#fb9f3a"
             ],
             [
              0.8888888888888888,
              "#fdca26"
             ],
             [
              1,
              "#f0f921"
             ]
            ],
            "type": "histogram2d"
           }
          ],
          "histogram2dcontour": [
           {
            "colorbar": {
             "outlinewidth": 0,
             "ticks": ""
            },
            "colorscale": [
             [
              0,
              "#0d0887"
             ],
             [
              0.1111111111111111,
              "#46039f"
             ],
             [
              0.2222222222222222,
              "#7201a8"
             ],
             [
              0.3333333333333333,
              "#9c179e"
             ],
             [
              0.4444444444444444,
              "#bd3786"
             ],
             [
              0.5555555555555556,
              "#d8576b"
             ],
             [
              0.6666666666666666,
              "#ed7953"
             ],
             [
              0.7777777777777778,
              "#fb9f3a"
             ],
             [
              0.8888888888888888,
              "#fdca26"
             ],
             [
              1,
              "#f0f921"
             ]
            ],
            "type": "histogram2dcontour"
           }
          ],
          "mesh3d": [
           {
            "colorbar": {
             "outlinewidth": 0,
             "ticks": ""
            },
            "type": "mesh3d"
           }
          ],
          "parcoords": [
           {
            "line": {
             "colorbar": {
              "outlinewidth": 0,
              "ticks": ""
             }
            },
            "type": "parcoords"
           }
          ],
          "pie": [
           {
            "automargin": true,
            "type": "pie"
           }
          ],
          "scatter": [
           {
            "fillpattern": {
             "fillmode": "overlay",
             "size": 10,
             "solidity": 0.2
            },
            "type": "scatter"
           }
          ],
          "scatter3d": [
           {
            "line": {
             "colorbar": {
              "outlinewidth": 0,
              "ticks": ""
             }
            },
            "marker": {
             "colorbar": {
              "outlinewidth": 0,
              "ticks": ""
             }
            },
            "type": "scatter3d"
           }
          ],
          "scattercarpet": [
           {
            "marker": {
             "colorbar": {
              "outlinewidth": 0,
              "ticks": ""
             }
            },
            "type": "scattercarpet"
           }
          ],
          "scattergeo": [
           {
            "marker": {
             "colorbar": {
              "outlinewidth": 0,
              "ticks": ""
             }
            },
            "type": "scattergeo"
           }
          ],
          "scattergl": [
           {
            "marker": {
             "colorbar": {
              "outlinewidth": 0,
              "ticks": ""
             }
            },
            "type": "scattergl"
           }
          ],
          "scattermapbox": [
           {
            "marker": {
             "colorbar": {
              "outlinewidth": 0,
              "ticks": ""
             }
            },
            "type": "scattermapbox"
           }
          ],
          "scatterpolar": [
           {
            "marker": {
             "colorbar": {
              "outlinewidth": 0,
              "ticks": ""
             }
            },
            "type": "scatterpolar"
           }
          ],
          "scatterpolargl": [
           {
            "marker": {
             "colorbar": {
              "outlinewidth": 0,
              "ticks": ""
             }
            },
            "type": "scatterpolargl"
           }
          ],
          "scatterternary": [
           {
            "marker": {
             "colorbar": {
              "outlinewidth": 0,
              "ticks": ""
             }
            },
            "type": "scatterternary"
           }
          ],
          "surface": [
           {
            "colorbar": {
             "outlinewidth": 0,
             "ticks": ""
            },
            "colorscale": [
             [
              0,
              "#0d0887"
             ],
             [
              0.1111111111111111,
              "#46039f"
             ],
             [
              0.2222222222222222,
              "#7201a8"
             ],
             [
              0.3333333333333333,
              "#9c179e"
             ],
             [
              0.4444444444444444,
              "#bd3786"
             ],
             [
              0.5555555555555556,
              "#d8576b"
             ],
             [
              0.6666666666666666,
              "#ed7953"
             ],
             [
              0.7777777777777778,
              "#fb9f3a"
             ],
             [
              0.8888888888888888,
              "#fdca26"
             ],
             [
              1,
              "#f0f921"
             ]
            ],
            "type": "surface"
           }
          ],
          "table": [
           {
            "cells": {
             "fill": {
              "color": "#EBF0F8"
             },
             "line": {
              "color": "white"
             }
            },
            "header": {
             "fill": {
              "color": "#C8D4E3"
             },
             "line": {
              "color": "white"
             }
            },
            "type": "table"
           }
          ]
         },
         "layout": {
          "annotationdefaults": {
           "arrowcolor": "#2a3f5f",
           "arrowhead": 0,
           "arrowwidth": 1
          },
          "autotypenumbers": "strict",
          "coloraxis": {
           "colorbar": {
            "outlinewidth": 0,
            "ticks": ""
           }
          },
          "colorscale": {
           "diverging": [
            [
             0,
             "#8e0152"
            ],
            [
             0.1,
             "#c51b7d"
            ],
            [
             0.2,
             "#de77ae"
            ],
            [
             0.3,
             "#f1b6da"
            ],
            [
             0.4,
             "#fde0ef"
            ],
            [
             0.5,
             "#f7f7f7"
            ],
            [
             0.6,
             "#e6f5d0"
            ],
            [
             0.7,
             "#b8e186"
            ],
            [
             0.8,
             "#7fbc41"
            ],
            [
             0.9,
             "#4d9221"
            ],
            [
             1,
             "#276419"
            ]
           ],
           "sequential": [
            [
             0,
             "#0d0887"
            ],
            [
             0.1111111111111111,
             "#46039f"
            ],
            [
             0.2222222222222222,
             "#7201a8"
            ],
            [
             0.3333333333333333,
             "#9c179e"
            ],
            [
             0.4444444444444444,
             "#bd3786"
            ],
            [
             0.5555555555555556,
             "#d8576b"
            ],
            [
             0.6666666666666666,
             "#ed7953"
            ],
            [
             0.7777777777777778,
             "#fb9f3a"
            ],
            [
             0.8888888888888888,
             "#fdca26"
            ],
            [
             1,
             "#f0f921"
            ]
           ],
           "sequentialminus": [
            [
             0,
             "#0d0887"
            ],
            [
             0.1111111111111111,
             "#46039f"
            ],
            [
             0.2222222222222222,
             "#7201a8"
            ],
            [
             0.3333333333333333,
             "#9c179e"
            ],
            [
             0.4444444444444444,
             "#bd3786"
            ],
            [
             0.5555555555555556,
             "#d8576b"
            ],
            [
             0.6666666666666666,
             "#ed7953"
            ],
            [
             0.7777777777777778,
             "#fb9f3a"
            ],
            [
             0.8888888888888888,
             "#fdca26"
            ],
            [
             1,
             "#f0f921"
            ]
           ]
          },
          "colorway": [
           "#636efa",
           "#EF553B",
           "#00cc96",
           "#ab63fa",
           "#FFA15A",
           "#19d3f3",
           "#FF6692",
           "#B6E880",
           "#FF97FF",
           "#FECB52"
          ],
          "font": {
           "color": "#2a3f5f"
          },
          "geo": {
           "bgcolor": "white",
           "lakecolor": "white",
           "landcolor": "#E5ECF6",
           "showlakes": true,
           "showland": true,
           "subunitcolor": "white"
          },
          "hoverlabel": {
           "align": "left"
          },
          "hovermode": "closest",
          "mapbox": {
           "style": "light"
          },
          "paper_bgcolor": "white",
          "plot_bgcolor": "#E5ECF6",
          "polar": {
           "angularaxis": {
            "gridcolor": "white",
            "linecolor": "white",
            "ticks": ""
           },
           "bgcolor": "#E5ECF6",
           "radialaxis": {
            "gridcolor": "white",
            "linecolor": "white",
            "ticks": ""
           }
          },
          "scene": {
           "xaxis": {
            "backgroundcolor": "#E5ECF6",
            "gridcolor": "white",
            "gridwidth": 2,
            "linecolor": "white",
            "showbackground": true,
            "ticks": "",
            "zerolinecolor": "white"
           },
           "yaxis": {
            "backgroundcolor": "#E5ECF6",
            "gridcolor": "white",
            "gridwidth": 2,
            "linecolor": "white",
            "showbackground": true,
            "ticks": "",
            "zerolinecolor": "white"
           },
           "zaxis": {
            "backgroundcolor": "#E5ECF6",
            "gridcolor": "white",
            "gridwidth": 2,
            "linecolor": "white",
            "showbackground": true,
            "ticks": "",
            "zerolinecolor": "white"
           }
          },
          "shapedefaults": {
           "line": {
            "color": "#2a3f5f"
           }
          },
          "ternary": {
           "aaxis": {
            "gridcolor": "white",
            "linecolor": "white",
            "ticks": ""
           },
           "baxis": {
            "gridcolor": "white",
            "linecolor": "white",
            "ticks": ""
           },
           "bgcolor": "#E5ECF6",
           "caxis": {
            "gridcolor": "white",
            "linecolor": "white",
            "ticks": ""
           }
          },
          "title": {
           "x": 0.05
          },
          "xaxis": {
           "automargin": true,
           "gridcolor": "white",
           "linecolor": "white",
           "ticks": "",
           "title": {
            "standoff": 15
           },
           "zerolinecolor": "white",
           "zerolinewidth": 2
          },
          "yaxis": {
           "automargin": true,
           "gridcolor": "white",
           "linecolor": "white",
           "ticks": "",
           "title": {
            "standoff": 15
           },
           "zerolinecolor": "white",
           "zerolinewidth": 2
          }
         }
        },
        "title": {
         "text": "AI CORRECT"
        }
       }
      }
     },
     "metadata": {},
     "output_type": "display_data"
    },
    {
     "data": {
      "application/vnd.plotly.v1+json": {
       "config": {
        "plotlyServerURL": "https://plot.ly"
       },
       "data": [
        {
         "arrangement": "freeform",
         "dimensions": [
          {
           "categoryarray": [
            true,
            false
           ],
           "label": "s1 correctness",
           "values": [
            false,
            true,
            false,
            true,
            false,
            true,
            false,
            false,
            true,
            true,
            false,
            false,
            false,
            false,
            true,
            true,
            false,
            true,
            false,
            false,
            true,
            true,
            false,
            false,
            true,
            false,
            false,
            true,
            false,
            true,
            true,
            false,
            true,
            true,
            false,
            false,
            false,
            true,
            true,
            true,
            false,
            false,
            false,
            true,
            true,
            true,
            false,
            true,
            true,
            true,
            true,
            true,
            false,
            false,
            true,
            true,
            false,
            false,
            true,
            false,
            true,
            true,
            true,
            true,
            true,
            false,
            false,
            false,
            true,
            true,
            false,
            false,
            false,
            false,
            false,
            true,
            false,
            false,
            false,
            true,
            false,
            true,
            false,
            true,
            false,
            false,
            true,
            true,
            false,
            true,
            false,
            false,
            true,
            true,
            false,
            false,
            false,
            false,
            false,
            true,
            true,
            false,
            true,
            false,
            false,
            false,
            false,
            false
           ]
          },
          {
           "categoryarray": [
            true,
            false
           ],
           "label": "s2 correctness",
           "values": [
            false,
            true,
            false,
            true,
            false,
            false,
            false,
            false,
            true,
            true,
            false,
            false,
            false,
            false,
            false,
            true,
            false,
            true,
            false,
            false,
            true,
            true,
            false,
            false,
            false,
            false,
            false,
            true,
            false,
            false,
            false,
            false,
            false,
            false,
            false,
            false,
            false,
            false,
            true,
            true,
            false,
            false,
            false,
            false,
            false,
            true,
            false,
            true,
            false,
            false,
            false,
            false,
            false,
            false,
            true,
            true,
            false,
            false,
            true,
            false,
            true,
            true,
            true,
            true,
            true,
            false,
            false,
            false,
            true,
            false,
            false,
            false,
            false,
            false,
            false,
            false,
            false,
            false,
            false,
            false,
            false,
            false,
            false,
            false,
            false,
            false,
            true,
            false,
            false,
            true,
            false,
            false,
            true,
            true,
            false,
            false,
            false,
            false,
            false,
            true,
            false,
            false,
            true,
            false,
            false,
            false,
            false,
            false
           ]
          },
          {
           "categoryarray": [
            true,
            false
           ],
           "label": "s3 correctness",
           "ticktext": [
            "True",
            "False"
           ],
           "values": [
            false,
            false,
            false,
            true,
            false,
            false,
            false,
            false,
            true,
            true,
            false,
            false,
            false,
            false,
            true,
            false,
            false,
            true,
            false,
            false,
            true,
            false,
            false,
            false,
            false,
            false,
            false,
            false,
            false,
            false,
            false,
            false,
            true,
            false,
            false,
            false,
            false,
            false,
            true,
            true,
            false,
            false,
            false,
            false,
            true,
            false,
            false,
            false,
            false,
            false,
            false,
            false,
            false,
            false,
            false,
            true,
            false,
            false,
            true,
            false,
            false,
            false,
            true,
            true,
            false,
            false,
            false,
            false,
            true,
            false,
            false,
            false,
            false,
            false,
            false,
            false,
            false,
            false,
            false,
            false,
            false,
            false,
            false,
            false,
            false,
            false,
            true,
            false,
            false,
            true,
            false,
            false,
            true,
            true,
            false,
            false,
            false,
            false,
            false,
            true,
            false,
            false,
            false,
            false,
            true,
            false,
            false,
            false
           ]
          }
         ],
         "hoverinfo": "count+probability",
         "hoveron": "color",
         "labelfont": {
          "family": "Times",
          "size": 18
         },
         "line": {
          "color": [
           0,
           0,
           0,
           1,
           0,
           0,
           0,
           0,
           1,
           1,
           0,
           0,
           0,
           0,
           1,
           0,
           0,
           1,
           0,
           0,
           1,
           0,
           0,
           0,
           0,
           0,
           0,
           0,
           0,
           0,
           0,
           0,
           1,
           0,
           0,
           0,
           0,
           0,
           1,
           1,
           0,
           0,
           0,
           0,
           1,
           0,
           0,
           0,
           0,
           0,
           0,
           0,
           0,
           0,
           0,
           1,
           0,
           0,
           1,
           0,
           0,
           0,
           1,
           1,
           0,
           0,
           0,
           0,
           1,
           0,
           0,
           0,
           0,
           0,
           0,
           0,
           0,
           0,
           0,
           0,
           0,
           0,
           0,
           0,
           0,
           0,
           1,
           0,
           0,
           1,
           0,
           0,
           1,
           1,
           0,
           0,
           0,
           0,
           0,
           1,
           0,
           0,
           0,
           0,
           1,
           0,
           0,
           0
          ],
          "colorscale": [
           [
            0,
            "lightsteelblue"
           ],
           [
            1,
            "mediumseagreen"
           ]
          ]
         },
         "tickfont": {
          "family": "Times",
          "size": 16
         },
         "type": "parcats"
        }
       ],
       "layout": {
        "template": {
         "data": {
          "bar": [
           {
            "error_x": {
             "color": "#2a3f5f"
            },
            "error_y": {
             "color": "#2a3f5f"
            },
            "marker": {
             "line": {
              "color": "#E5ECF6",
              "width": 0.5
             },
             "pattern": {
              "fillmode": "overlay",
              "size": 10,
              "solidity": 0.2
             }
            },
            "type": "bar"
           }
          ],
          "barpolar": [
           {
            "marker": {
             "line": {
              "color": "#E5ECF6",
              "width": 0.5
             },
             "pattern": {
              "fillmode": "overlay",
              "size": 10,
              "solidity": 0.2
             }
            },
            "type": "barpolar"
           }
          ],
          "carpet": [
           {
            "aaxis": {
             "endlinecolor": "#2a3f5f",
             "gridcolor": "white",
             "linecolor": "white",
             "minorgridcolor": "white",
             "startlinecolor": "#2a3f5f"
            },
            "baxis": {
             "endlinecolor": "#2a3f5f",
             "gridcolor": "white",
             "linecolor": "white",
             "minorgridcolor": "white",
             "startlinecolor": "#2a3f5f"
            },
            "type": "carpet"
           }
          ],
          "choropleth": [
           {
            "colorbar": {
             "outlinewidth": 0,
             "ticks": ""
            },
            "type": "choropleth"
           }
          ],
          "contour": [
           {
            "colorbar": {
             "outlinewidth": 0,
             "ticks": ""
            },
            "colorscale": [
             [
              0,
              "#0d0887"
             ],
             [
              0.1111111111111111,
              "#46039f"
             ],
             [
              0.2222222222222222,
              "#7201a8"
             ],
             [
              0.3333333333333333,
              "#9c179e"
             ],
             [
              0.4444444444444444,
              "#bd3786"
             ],
             [
              0.5555555555555556,
              "#d8576b"
             ],
             [
              0.6666666666666666,
              "#ed7953"
             ],
             [
              0.7777777777777778,
              "#fb9f3a"
             ],
             [
              0.8888888888888888,
              "#fdca26"
             ],
             [
              1,
              "#f0f921"
             ]
            ],
            "type": "contour"
           }
          ],
          "contourcarpet": [
           {
            "colorbar": {
             "outlinewidth": 0,
             "ticks": ""
            },
            "type": "contourcarpet"
           }
          ],
          "heatmap": [
           {
            "colorbar": {
             "outlinewidth": 0,
             "ticks": ""
            },
            "colorscale": [
             [
              0,
              "#0d0887"
             ],
             [
              0.1111111111111111,
              "#46039f"
             ],
             [
              0.2222222222222222,
              "#7201a8"
             ],
             [
              0.3333333333333333,
              "#9c179e"
             ],
             [
              0.4444444444444444,
              "#bd3786"
             ],
             [
              0.5555555555555556,
              "#d8576b"
             ],
             [
              0.6666666666666666,
              "#ed7953"
             ],
             [
              0.7777777777777778,
              "#fb9f3a"
             ],
             [
              0.8888888888888888,
              "#fdca26"
             ],
             [
              1,
              "#f0f921"
             ]
            ],
            "type": "heatmap"
           }
          ],
          "heatmapgl": [
           {
            "colorbar": {
             "outlinewidth": 0,
             "ticks": ""
            },
            "colorscale": [
             [
              0,
              "#0d0887"
             ],
             [
              0.1111111111111111,
              "#46039f"
             ],
             [
              0.2222222222222222,
              "#7201a8"
             ],
             [
              0.3333333333333333,
              "#9c179e"
             ],
             [
              0.4444444444444444,
              "#bd3786"
             ],
             [
              0.5555555555555556,
              "#d8576b"
             ],
             [
              0.6666666666666666,
              "#ed7953"
             ],
             [
              0.7777777777777778,
              "#fb9f3a"
             ],
             [
              0.8888888888888888,
              "#fdca26"
             ],
             [
              1,
              "#f0f921"
             ]
            ],
            "type": "heatmapgl"
           }
          ],
          "histogram": [
           {
            "marker": {
             "pattern": {
              "fillmode": "overlay",
              "size": 10,
              "solidity": 0.2
             }
            },
            "type": "histogram"
           }
          ],
          "histogram2d": [
           {
            "colorbar": {
             "outlinewidth": 0,
             "ticks": ""
            },
            "colorscale": [
             [
              0,
              "#0d0887"
             ],
             [
              0.1111111111111111,
              "#46039f"
             ],
             [
              0.2222222222222222,
              "#7201a8"
             ],
             [
              0.3333333333333333,
              "#9c179e"
             ],
             [
              0.4444444444444444,
              "#bd3786"
             ],
             [
              0.5555555555555556,
              "#d8576b"
             ],
             [
              0.6666666666666666,
              "#ed7953"
             ],
             [
              0.7777777777777778,
              "#fb9f3a"
             ],
             [
              0.8888888888888888,
              "#fdca26"
             ],
             [
              1,
              "#f0f921"
             ]
            ],
            "type": "histogram2d"
           }
          ],
          "histogram2dcontour": [
           {
            "colorbar": {
             "outlinewidth": 0,
             "ticks": ""
            },
            "colorscale": [
             [
              0,
              "#0d0887"
             ],
             [
              0.1111111111111111,
              "#46039f"
             ],
             [
              0.2222222222222222,
              "#7201a8"
             ],
             [
              0.3333333333333333,
              "#9c179e"
             ],
             [
              0.4444444444444444,
              "#bd3786"
             ],
             [
              0.5555555555555556,
              "#d8576b"
             ],
             [
              0.6666666666666666,
              "#ed7953"
             ],
             [
              0.7777777777777778,
              "#fb9f3a"
             ],
             [
              0.8888888888888888,
              "#fdca26"
             ],
             [
              1,
              "#f0f921"
             ]
            ],
            "type": "histogram2dcontour"
           }
          ],
          "mesh3d": [
           {
            "colorbar": {
             "outlinewidth": 0,
             "ticks": ""
            },
            "type": "mesh3d"
           }
          ],
          "parcoords": [
           {
            "line": {
             "colorbar": {
              "outlinewidth": 0,
              "ticks": ""
             }
            },
            "type": "parcoords"
           }
          ],
          "pie": [
           {
            "automargin": true,
            "type": "pie"
           }
          ],
          "scatter": [
           {
            "fillpattern": {
             "fillmode": "overlay",
             "size": 10,
             "solidity": 0.2
            },
            "type": "scatter"
           }
          ],
          "scatter3d": [
           {
            "line": {
             "colorbar": {
              "outlinewidth": 0,
              "ticks": ""
             }
            },
            "marker": {
             "colorbar": {
              "outlinewidth": 0,
              "ticks": ""
             }
            },
            "type": "scatter3d"
           }
          ],
          "scattercarpet": [
           {
            "marker": {
             "colorbar": {
              "outlinewidth": 0,
              "ticks": ""
             }
            },
            "type": "scattercarpet"
           }
          ],
          "scattergeo": [
           {
            "marker": {
             "colorbar": {
              "outlinewidth": 0,
              "ticks": ""
             }
            },
            "type": "scattergeo"
           }
          ],
          "scattergl": [
           {
            "marker": {
             "colorbar": {
              "outlinewidth": 0,
              "ticks": ""
             }
            },
            "type": "scattergl"
           }
          ],
          "scattermapbox": [
           {
            "marker": {
             "colorbar": {
              "outlinewidth": 0,
              "ticks": ""
             }
            },
            "type": "scattermapbox"
           }
          ],
          "scatterpolar": [
           {
            "marker": {
             "colorbar": {
              "outlinewidth": 0,
              "ticks": ""
             }
            },
            "type": "scatterpolar"
           }
          ],
          "scatterpolargl": [
           {
            "marker": {
             "colorbar": {
              "outlinewidth": 0,
              "ticks": ""
             }
            },
            "type": "scatterpolargl"
           }
          ],
          "scatterternary": [
           {
            "marker": {
             "colorbar": {
              "outlinewidth": 0,
              "ticks": ""
             }
            },
            "type": "scatterternary"
           }
          ],
          "surface": [
           {
            "colorbar": {
             "outlinewidth": 0,
             "ticks": ""
            },
            "colorscale": [
             [
              0,
              "#0d0887"
             ],
             [
              0.1111111111111111,
              "#46039f"
             ],
             [
              0.2222222222222222,
              "#7201a8"
             ],
             [
              0.3333333333333333,
              "#9c179e"
             ],
             [
              0.4444444444444444,
              "#bd3786"
             ],
             [
              0.5555555555555556,
              "#d8576b"
             ],
             [
              0.6666666666666666,
              "#ed7953"
             ],
             [
              0.7777777777777778,
              "#fb9f3a"
             ],
             [
              0.8888888888888888,
              "#fdca26"
             ],
             [
              1,
              "#f0f921"
             ]
            ],
            "type": "surface"
           }
          ],
          "table": [
           {
            "cells": {
             "fill": {
              "color": "#EBF0F8"
             },
             "line": {
              "color": "white"
             }
            },
            "header": {
             "fill": {
              "color": "#C8D4E3"
             },
             "line": {
              "color": "white"
             }
            },
            "type": "table"
           }
          ]
         },
         "layout": {
          "annotationdefaults": {
           "arrowcolor": "#2a3f5f",
           "arrowhead": 0,
           "arrowwidth": 1
          },
          "autotypenumbers": "strict",
          "coloraxis": {
           "colorbar": {
            "outlinewidth": 0,
            "ticks": ""
           }
          },
          "colorscale": {
           "diverging": [
            [
             0,
             "#8e0152"
            ],
            [
             0.1,
             "#c51b7d"
            ],
            [
             0.2,
             "#de77ae"
            ],
            [
             0.3,
             "#f1b6da"
            ],
            [
             0.4,
             "#fde0ef"
            ],
            [
             0.5,
             "#f7f7f7"
            ],
            [
             0.6,
             "#e6f5d0"
            ],
            [
             0.7,
             "#b8e186"
            ],
            [
             0.8,
             "#7fbc41"
            ],
            [
             0.9,
             "#4d9221"
            ],
            [
             1,
             "#276419"
            ]
           ],
           "sequential": [
            [
             0,
             "#0d0887"
            ],
            [
             0.1111111111111111,
             "#46039f"
            ],
            [
             0.2222222222222222,
             "#7201a8"
            ],
            [
             0.3333333333333333,
             "#9c179e"
            ],
            [
             0.4444444444444444,
             "#bd3786"
            ],
            [
             0.5555555555555556,
             "#d8576b"
            ],
            [
             0.6666666666666666,
             "#ed7953"
            ],
            [
             0.7777777777777778,
             "#fb9f3a"
            ],
            [
             0.8888888888888888,
             "#fdca26"
            ],
            [
             1,
             "#f0f921"
            ]
           ],
           "sequentialminus": [
            [
             0,
             "#0d0887"
            ],
            [
             0.1111111111111111,
             "#46039f"
            ],
            [
             0.2222222222222222,
             "#7201a8"
            ],
            [
             0.3333333333333333,
             "#9c179e"
            ],
            [
             0.4444444444444444,
             "#bd3786"
            ],
            [
             0.5555555555555556,
             "#d8576b"
            ],
            [
             0.6666666666666666,
             "#ed7953"
            ],
            [
             0.7777777777777778,
             "#fb9f3a"
            ],
            [
             0.8888888888888888,
             "#fdca26"
            ],
            [
             1,
             "#f0f921"
            ]
           ]
          },
          "colorway": [
           "#636efa",
           "#EF553B",
           "#00cc96",
           "#ab63fa",
           "#FFA15A",
           "#19d3f3",
           "#FF6692",
           "#B6E880",
           "#FF97FF",
           "#FECB52"
          ],
          "font": {
           "color": "#2a3f5f"
          },
          "geo": {
           "bgcolor": "white",
           "lakecolor": "white",
           "landcolor": "#E5ECF6",
           "showlakes": true,
           "showland": true,
           "subunitcolor": "white"
          },
          "hoverlabel": {
           "align": "left"
          },
          "hovermode": "closest",
          "mapbox": {
           "style": "light"
          },
          "paper_bgcolor": "white",
          "plot_bgcolor": "#E5ECF6",
          "polar": {
           "angularaxis": {
            "gridcolor": "white",
            "linecolor": "white",
            "ticks": ""
           },
           "bgcolor": "#E5ECF6",
           "radialaxis": {
            "gridcolor": "white",
            "linecolor": "white",
            "ticks": ""
           }
          },
          "scene": {
           "xaxis": {
            "backgroundcolor": "#E5ECF6",
            "gridcolor": "white",
            "gridwidth": 2,
            "linecolor": "white",
            "showbackground": true,
            "ticks": "",
            "zerolinecolor": "white"
           },
           "yaxis": {
            "backgroundcolor": "#E5ECF6",
            "gridcolor": "white",
            "gridwidth": 2,
            "linecolor": "white",
            "showbackground": true,
            "ticks": "",
            "zerolinecolor": "white"
           },
           "zaxis": {
            "backgroundcolor": "#E5ECF6",
            "gridcolor": "white",
            "gridwidth": 2,
            "linecolor": "white",
            "showbackground": true,
            "ticks": "",
            "zerolinecolor": "white"
           }
          },
          "shapedefaults": {
           "line": {
            "color": "#2a3f5f"
           }
          },
          "ternary": {
           "aaxis": {
            "gridcolor": "white",
            "linecolor": "white",
            "ticks": ""
           },
           "baxis": {
            "gridcolor": "white",
            "linecolor": "white",
            "ticks": ""
           },
           "bgcolor": "#E5ECF6",
           "caxis": {
            "gridcolor": "white",
            "linecolor": "white",
            "ticks": ""
           }
          },
          "title": {
           "x": 0.05
          },
          "xaxis": {
           "automargin": true,
           "gridcolor": "white",
           "linecolor": "white",
           "ticks": "",
           "title": {
            "standoff": 15
           },
           "zerolinecolor": "white",
           "zerolinewidth": 2
          },
          "yaxis": {
           "automargin": true,
           "gridcolor": "white",
           "linecolor": "white",
           "ticks": "",
           "title": {
            "standoff": 15
           },
           "zerolinecolor": "white",
           "zerolinewidth": 2
          }
         }
        },
        "title": {
         "text": "AI INCORRECT"
        }
       }
      }
     },
     "metadata": {},
     "output_type": "display_data"
    }
   ],
   "source": [
    "# user acc across steps\n",
    "\n",
    "data = {\n",
    "    'ai_correct': [],\n",
    "    's1_correct': [],\n",
    "    's2_correct': [],\n",
    "    's3_correct': []\n",
    "}\n",
    "\n",
    "for index, row in filtered_df.iterrows():\n",
    "    ai,s1,s2,s3 = 0,0,0,0\n",
    "    for i in range(1, 21):\n",
    "        if row[f\"{i}_ai\"] == row[f\"{i}_gt\"]: \n",
    "            data['ai_correct'].append(True)\n",
    "        else:\n",
    "            data['ai_correct'].append(False)\n",
    "        if row[f\"{i}_1\"] == row[f\"{i}_gt\"]: \n",
    "            data['s1_correct'].append(True)\n",
    "        else:\n",
    "            data['s1_correct'].append(False)\n",
    "        if row[f\"{i}_2\"] == row[f\"{i}_gt\"]: \n",
    "            data['s2_correct'].append(True)\n",
    "        else:\n",
    "            data['s2_correct'].append(False)\n",
    "        if row[f\"{i}_3\"] == row[f\"{i}_gt\"]: \n",
    "            data['s3_correct'].append(True)\n",
    "        else:\n",
    "            data['s3_correct'].append(False)\n",
    "data = pd.DataFrame(data)\n",
    "\n",
    "plot_parallel(data, True)\n",
    "plot_parallel(data, False)"
   ]
  },
  {
   "cell_type": "code",
   "execution_count": 10,
   "metadata": {},
   "outputs": [
    {
     "name": "stderr",
     "output_type": "stream",
     "text": [
      "/Users/Luo/Lab/projects/trust-data-analysis/utils.py:316: FutureWarning:\n",
      "\n",
      "\n",
      "\n",
      "The `ci` parameter is deprecated. Use `errorbar='sd'` for the same effect.\n",
      "\n",
      "\n"
     ]
    },
    {
     "name": "stdout",
     "output_type": "stream",
     "text": [
      "{'s2 acc given s1 wrong': [1, 1, 0, 0, 2, 0, 0, 1, 3, 0, 0, 2, 3, 1, 0, 0, 0, 0], 's3 acc given s1 wrong': [2, 1, 3, 2, 2, 1, 1, 2, 3, 4, 0, 3, 4, 3, 1, 0, 0, 2]}\n",
      "One-way ANOVA results:\n",
      "F-statistic: 8.056872037914694\n",
      "p-value: 0.007593753132311542\n",
      "\n",
      "Tukey's HSD test results:\n",
      "              Multiple Comparison of Means - Tukey HSD, FWER=0.05               \n",
      "================================================================================\n",
      "        group1                group2        meandiff p-adj  lower  upper  reject\n",
      "--------------------------------------------------------------------------------\n",
      "s2 acc given s1 wrong s3 acc given s1 wrong   1.1111 0.0076 0.3156 1.9066   True\n",
      "--------------------------------------------------------------------------------\n"
     ]
    },
    {
     "data": {
      "image/png": "[encoded data removed]",
      "text/plain": [
       "<Figure size 600x600 with 1 Axes>"
      ]
     },
     "metadata": {},
     "output_type": "display_data"
    }
   ],
   "source": [
    "# Step 3 correct when step 1 or step 2 were wrong\n",
    "filtered_df = df[df['condition'] == CONDITION]\n",
    "\n",
    "data = {\n",
    "    \"s2 acc given s1 wrong\": [],\n",
    "    \"s3 acc given s1 wrong\": []\n",
    "}\n",
    "\n",
    "for index, row in filtered_df.iterrows():\n",
    "    s2 = 0\n",
    "    s3 = 0\n",
    "    total = 0\n",
    "    for i in range(1, 21):\n",
    "        # given s1 was wrong, acc for s2 and s3\n",
    "        if (row[f\"{i}_1\"] != row[f\"{i}_gt\"]):\n",
    "            total += 1\n",
    "            if row[f\"{i}_2\"] == row[f\"{i}_gt\"]:\n",
    "                s2 += 1\n",
    "            if row[f\"{i}_3\"] == row[f\"{i}_gt\"]:\n",
    "                s3 += 1\n",
    "    data[\"s2 acc given s1 wrong\"].append(s2)\n",
    "    data[\"s3 acc given s1 wrong\"].append(s3)\n",
    "\n",
    "print(data)\n",
    "data = pd.DataFrame(data)\n",
    "plot_bar(data)"
   ]
  },
  {
   "cell_type": "code",
   "execution_count": 11,
   "metadata": {},
   "outputs": [
    {
     "name": "stdout",
     "output_type": "stream",
     "text": [
      "{'s2 acc given s1 wrong': [20.0, 16.666666666666664, 0.0, 0.0, 33.33333333333333, 0.0, 0.0, 20.0, 60.0, 0.0, 0.0, 25.0, 33.33333333333333, 14.285714285714285, 0.0, 0.0, 0.0, 0.0], 's3 acc given s2 wrong': [20.0, 0.0, 50.0, 28.57142857142857, 0.0, 25.0, 12.5, 33.33333333333333, 0.0, 40.0, 0.0, 25.0, 14.285714285714285, 22.22222222222222, 14.285714285714285, 0.0, 0.0, 28.57142857142857]}\n",
      "One-way ANOVA results:\n",
      "F-statistic: 0.8662679112788352\n",
      "p-value: 0.3585524912537753\n",
      "\n",
      "Tukey's HSD test results:\n",
      "               Multiple Comparison of Means - Tukey HSD, FWER=0.05                \n",
      "==================================================================================\n",
      "        group1                group2        meandiff p-adj   lower   upper  reject\n",
      "----------------------------------------------------------------------------------\n",
      "s2 acc given s1 wrong s3 acc given s2 wrong   5.0639 0.3586 -5.9931 16.1209  False\n",
      "----------------------------------------------------------------------------------\n"
     ]
    },
    {
     "name": "stderr",
     "output_type": "stream",
     "text": [
      "/Users/Luo/Lab/projects/trust-data-analysis/utils.py:316: FutureWarning:\n",
      "\n",
      "\n",
      "\n",
      "The `ci` parameter is deprecated. Use `errorbar='sd'` for the same effect.\n",
      "\n",
      "\n"
     ]
    },
    {
     "data": {
      "image/png": "[encoded data removed]",
      "text/plain": [
       "<Figure size 600x600 with 1 Axes>"
      ]
     },
     "metadata": {},
     "output_type": "display_data"
    }
   ],
   "source": [
    "# step x correct when step x-1 was wrong\n",
    "filtered_df = df[df['condition'] == CONDITION]\n",
    "\n",
    "data = {\n",
    "    \"s2 acc given s1 wrong\": [],\n",
    "    \"s3 acc given s2 wrong\": []\n",
    "}\n",
    "\n",
    "for index, row in filtered_df.iterrows():\n",
    "    s2 = 0\n",
    "    s3 = 0\n",
    "    s2_total = 0\n",
    "    s3_total = 0\n",
    "    for i in range(1, 21):\n",
    "        # given s1 was wrong, acc for s2 and s3\n",
    "        if (row[f\"{i}_1\"] != row[f\"{i}_gt\"]):\n",
    "            s2_total += 1\n",
    "            if row[f\"{i}_2\"] == row[f\"{i}_gt\"]:\n",
    "                s2 += 1\n",
    "        if (row[f\"{i}_2\"] != row[f\"{i}_gt\"]):\n",
    "            s3_total += 1\n",
    "            if row[f\"{i}_3\"] == row[f\"{i}_gt\"]:\n",
    "                s3 += 1\n",
    "    data[\"s2 acc given s1 wrong\"].append((s2 / s2_total) * 100)\n",
    "    data[\"s3 acc given s2 wrong\"].append((s3 / s3_total) * 100)\n",
    "\n",
    "print(data)\n",
    "data = pd.DataFrame(data)\n",
    "plot_bar(data)"
   ]
  },
  {
   "cell_type": "markdown",
   "metadata": {},
   "source": [
    "# Repeated measures ANOVA"
   ]
  },
  {
   "cell_type": "code",
   "execution_count": 12,
   "metadata": {},
   "outputs": [
    {
     "name": "stdout",
     "output_type": "stream",
     "text": [
      "Condition 1\n",
      "{'subject': [1, 1, 1, 2, 2, 2, 3, 3, 3, 4, 4, 4, 5, 5, 5, 6, 6, 6, 7, 7, 7, 8, 8, 8, 9, 9, 9, 10, 10, 10, 11, 11, 11, 12, 12, 12, 13, 13, 13, 14, 14, 14, 15, 15, 15, 16, 16, 16, 17, 17, 17, 18, 18, 18], 'step': ['s1', 's2', 's3', 's1', 's2', 's3', 's1', 's2', 's3', 's1', 's2', 's3', 's1', 's2', 's3', 's1', 's2', 's3', 's1', 's2', 's3', 's1', 's2', 's3', 's1', 's2', 's3', 's1', 's2', 's3', 's1', 's2', 's3', 's1', 's2', 's3', 's1', 's2', 's3', 's1', 's2', 's3', 's1', 's2', 's3', 's1', 's2', 's3', 's1', 's2', 's3', 's1', 's2', 's3'], 'acc': [15, 15, 15, 14, 15, 15, 13, 12, 15, 13, 13, 13, 14, 14, 13, 15, 12, 14, 13, 12, 13, 15, 14, 13, 15, 14, 14, 10, 10, 12, 19, 19, 16, 12, 12, 14, 11, 13, 14, 13, 11, 13, 14, 13, 14, 14, 14, 13, 11, 10, 10, 13, 13, 14]}\n",
      "              Anova\n",
      "==================================\n",
      "     F Value Num DF  Den DF Pr > F\n",
      "----------------------------------\n",
      "step  1.4086 2.0000 34.0000 0.2584\n",
      "==================================\n",
      "\n",
      "Condition 2\n",
      "{'subject': [1, 1, 1, 2, 2, 2, 3, 3, 3, 4, 4, 4, 5, 5, 5, 6, 6, 6, 7, 7, 7, 8, 8, 8, 9, 9, 9, 10, 10, 10, 11, 11, 11, 12, 12, 12, 13, 13, 13, 14, 14, 14, 15, 15, 15, 16, 16, 16, 17, 17, 17, 18, 18, 18], 'step': ['s1', 's2', 's3', 's1', 's2', 's3', 's1', 's2', 's3', 's1', 's2', 's3', 's1', 's2', 's3', 's1', 's2', 's3', 's1', 's2', 's3', 's1', 's2', 's3', 's1', 's2', 's3', 's1', 's2', 's3', 's1', 's2', 's3', 's1', 's2', 's3', 's1', 's2', 's3', 's1', 's2', 's3', 's1', 's2', 's3', 's1', 's2', 's3', 's1', 's2', 's3', 's1', 's2', 's3'], 'acc': [13, 13, 15, 12, 15, 14, 12, 13, 13, 9, 10, 11, 11, 14, 15, 15, 16, 16, 11, 15, 15, 13, 16, 16, 17, 15, 16, 11, 11, 11, 12, 14, 13, 14, 14, 16, 15, 15, 14, 12, 13, 13, 11, 13, 13, 15, 17, 15, 12, 15, 15, 13, 15, 15]}\n",
      "              Anova\n",
      "==================================\n",
      "     F Value Num DF  Den DF Pr > F\n",
      "----------------------------------\n",
      "step 14.9209 2.0000 34.0000 0.0000\n",
      "==================================\n",
      "\n",
      "Condition 3\n",
      "{'subject': [1, 1, 1, 2, 2, 2, 3, 3, 3, 4, 4, 4, 5, 5, 5, 6, 6, 6, 7, 7, 7, 8, 8, 8, 9, 9, 9, 10, 10, 10, 11, 11, 11, 12, 12, 12, 13, 13, 13, 14, 14, 14, 15, 15, 15, 16, 16, 16, 17, 17, 17, 18, 18, 18], 'step': ['s1', 's2', 's3', 's1', 's2', 's3', 's1', 's2', 's3', 's1', 's2', 's3', 's1', 's2', 's3', 's1', 's2', 's3', 's1', 's2', 's3', 's1', 's2', 's3', 's1', 's2', 's3', 's1', 's2', 's3', 's1', 's2', 's3', 's1', 's2', 's3', 's1', 's2', 's3', 's1', 's2', 's3', 's1', 's2', 's3', 's1', 's2', 's3', 's1', 's2', 's3', 's1', 's2', 's3'], 'acc': [13, 14, 16, 13, 13, 13, 14, 16, 16, 14, 14, 14, 16, 14, 14, 13, 13, 13, 11, 14, 15, 11, 12, 12, 12, 14, 16, 14, 17, 17, 14, 16, 16, 13, 16, 16, 11, 12, 12, 14, 14, 15, 14, 15, 16, 13, 14, 15, 15, 14, 15, 12, 13, 16]}\n",
      "              Anova\n",
      "==================================\n",
      "     F Value Num DF  Den DF Pr > F\n",
      "----------------------------------\n",
      "step 13.7447 2.0000 34.0000 0.0000\n",
      "==================================\n",
      "\n",
      "Condition 4\n",
      "{'subject': [1, 1, 1, 2, 2, 2, 3, 3, 3, 4, 4, 4, 5, 5, 5, 6, 6, 6, 7, 7, 7, 8, 8, 8, 9, 9, 9, 10, 10, 10, 11, 11, 11, 12, 12, 12, 13, 13, 13, 14, 14, 14, 15, 15, 15, 16, 16, 16, 17, 17, 17, 18, 18, 18], 'step': ['s1', 's2', 's3', 's1', 's2', 's3', 's1', 's2', 's3', 's1', 's2', 's3', 's1', 's2', 's3', 's1', 's2', 's3', 's1', 's2', 's3', 's1', 's2', 's3', 's1', 's2', 's3', 's1', 's2', 's3', 's1', 's2', 's3', 's1', 's2', 's3', 's1', 's2', 's3', 's1', 's2', 's3', 's1', 's2', 's3', 's1', 's2', 's3', 's1', 's2', 's3', 's1', 's2', 's3'], 'acc': [13, 13, 13, 15, 15, 15, 8, 8, 8, 14, 14, 14, 14, 14, 14, 15, 14, 14, 11, 10, 10, 12, 13, 13, 14, 14, 14, 13, 13, 13, 14, 14, 14, 9, 13, 14, 13, 16, 16, 13, 14, 14, 12, 12, 12, 10, 10, 10, 14, 14, 15, 13, 14, 14]}\n",
      "              Anova\n",
      "==================================\n",
      "     F Value Num DF  Den DF Pr > F\n",
      "----------------------------------\n",
      "step  2.5319 2.0000 34.0000 0.0944\n",
      "==================================\n",
      "\n",
      "Condition 5\n",
      "{'subject': [1, 1, 1, 2, 2, 2, 3, 3, 3, 4, 4, 4, 5, 5, 5, 6, 6, 6, 7, 7, 7, 8, 8, 8, 9, 9, 9, 10, 10, 10, 11, 11, 11, 12, 12, 12, 13, 13, 13, 14, 14, 14, 15, 15, 15, 16, 16, 16, 17, 17, 17, 18, 18, 18], 'step': ['s1', 's2', 's3', 's1', 's2', 's3', 's1', 's2', 's3', 's1', 's2', 's3', 's1', 's2', 's3', 's1', 's2', 's3', 's1', 's2', 's3', 's1', 's2', 's3', 's1', 's2', 's3', 's1', 's2', 's3', 's1', 's2', 's3', 's1', 's2', 's3', 's1', 's2', 's3', 's1', 's2', 's3', 's1', 's2', 's3', 's1', 's2', 's3', 's1', 's2', 's3', 's1', 's2', 's3'], 'acc': [13, 13, 13, 10, 14, 9, 15, 10, 15, 13, 14, 16, 12, 9, 13, 12, 12, 10, 11, 15, 15, 11, 15, 16, 14, 14, 16, 13, 10, 13, 12, 11, 15, 15, 11, 15, 11, 13, 14, 15, 13, 15, 14, 12, 16, 13, 13, 14, 8, 12, 8, 10, 15, 15]}\n",
      "              Anova\n",
      "==================================\n",
      "     F Value Num DF  Den DF Pr > F\n",
      "----------------------------------\n",
      "step  3.0625 2.0000 34.0000 0.0599\n",
      "==================================\n",
      "\n",
      "Condition 6\n",
      "{'subject': [1, 1, 1, 2, 2, 2, 3, 3, 3, 4, 4, 4, 5, 5, 5, 6, 6, 6, 7, 7, 7, 8, 8, 8, 9, 9, 9, 10, 10, 10, 11, 11, 11, 12, 12, 12, 13, 13, 13, 14, 14, 14, 15, 15, 15, 16, 16, 16, 17, 17, 17, 18, 18, 18], 'step': ['s1', 's2', 's3', 's1', 's2', 's3', 's1', 's2', 's3', 's1', 's2', 's3', 's1', 's2', 's3', 's1', 's2', 's3', 's1', 's2', 's3', 's1', 's2', 's3', 's1', 's2', 's3', 's1', 's2', 's3', 's1', 's2', 's3', 's1', 's2', 's3', 's1', 's2', 's3', 's1', 's2', 's3', 's1', 's2', 's3', 's1', 's2', 's3', 's1', 's2', 's3', 's1', 's2', 's3'], 'acc': [13, 15, 13, 14, 14, 14, 14, 14, 14, 13, 15, 15, 15, 16, 16, 16, 17, 17, 15, 15, 15, 10, 11, 11, 13, 14, 13, 14, 13, 14, 15, 15, 13, 13, 13, 12, 13, 14, 15, 10, 12, 11, 14, 13, 13, 12, 12, 12, 12, 16, 15, 12, 14, 14]}\n",
      "              Anova\n",
      "==================================\n",
      "     F Value Num DF  Den DF Pr > F\n",
      "----------------------------------\n",
      "step  4.9692 2.0000 34.0000 0.0128\n",
      "==================================\n",
      "\n"
     ]
    }
   ],
   "source": [
    "c = 0\n",
    "\n",
    "for c in range(1, 7):\n",
    "    print(f\"Condition {c}\")\n",
    "    df = load_data()\n",
    "    filtered_df = df[df['condition'] == c]\n",
    "\n",
    "    data = {\n",
    "        'subject': [],\n",
    "        'step': [],\n",
    "        'acc': []\n",
    "    }\n",
    "\n",
    "    count = 0\n",
    "    for index, row in filtered_df.iterrows():\n",
    "        count += 1\n",
    "        s1=0\n",
    "        s2=0\n",
    "        s3=0\n",
    "        for i in range(1, 21):\n",
    "            if row[f\"{i}_gt\"] == row[f\"{i}_1\"]: s1 += 1\n",
    "            if row[f\"{i}_gt\"] == row[f\"{i}_2\"]: s2 += 1\n",
    "            if row[f\"{i}_gt\"] == row[f\"{i}_3\"]: s3 += 1\n",
    "        data[\"subject\"] += [count, count, count]\n",
    "        data[\"step\"] += ['s1', 's2', 's3']\n",
    "        data[\"acc\"] += [s1, s2, s3]\n",
    "\n",
    "    print(data)\n",
    "    data = pd.DataFrame(data)\n",
    "    import statsmodels.api as sm\n",
    "    from statsmodels.formula.api import ols\n",
    "    from statsmodels.stats.anova import AnovaRM\n",
    "    anova_results = AnovaRM(data, 'acc', 'subject', within=['step']).fit()\n",
    "    print(anova_results)"
   ]
  },
  {
   "cell_type": "code",
   "execution_count": 13,
   "metadata": {},
   "outputs": [
    {
     "name": "stdout",
     "output_type": "stream",
     "text": [
      "Condition 1\n",
      "{'subject': [1, 1, 2, 2, 3, 3, 4, 4, 5, 5, 6, 6, 7, 7, 8, 8, 9, 9, 10, 10, 11, 11, 12, 12, 13, 13, 14, 14, 15, 15, 16, 16, 17, 17, 18, 18], 'step': ['s2', 's3', 's2', 's3', 's2', 's3', 's2', 's3', 's2', 's3', 's2', 's3', 's2', 's3', 's2', 's3', 's2', 's3', 's2', 's3', 's2', 's3', 's2', 's3', 's2', 's3', 's2', 's3', 's2', 's3', 's2', 's3', 's2', 's3', 's2', 's3'], 'follow': [17, 19, 17, 17, 14, 17, 15, 17, 18, 19, 18, 18, 14, 15, 16, 17, 20, 20, 10, 14, 15, 18, 16, 18, 19, 20, 17, 19, 15, 16, 16, 15, 14, 14, 17, 18]}\n",
      "              Anova\n",
      "==================================\n",
      "     F Value Num DF  Den DF Pr > F\n",
      "----------------------------------\n",
      "step 18.0946 1.0000 17.0000 0.0005\n",
      "==================================\n",
      "\n",
      "Condition 2\n",
      "{'subject': [1, 1, 2, 2, 3, 3, 4, 4, 5, 5, 6, 6, 7, 7, 8, 8, 9, 9, 10, 10, 11, 11, 12, 12, 13, 13, 14, 14, 15, 15, 16, 16, 17, 17, 18, 18], 'step': ['s2', 's3', 's2', 's3', 's2', 's3', 's2', 's3', 's2', 's3', 's2', 's3', 's2', 's3', 's2', 's3', 's2', 's3', 's2', 's3', 's2', 's3', 's2', 's3', 's2', 's3', 's2', 's3', 's2', 's3', 's2', 's3', 's2', 's3', 's2', 's3'], 'follow': [18, 20, 20, 19, 18, 18, 13, 16, 19, 20, 15, 15, 18, 18, 15, 15, 14, 15, 16, 16, 11, 16, 15, 19, 16, 17, 16, 16, 14, 14, 14, 16, 20, 20, 18, 18]}\n",
      "              Anova\n",
      "==================================\n",
      "     F Value Num DF  Den DF Pr > F\n",
      "----------------------------------\n",
      "step  6.9545 1.0000 17.0000 0.0173\n",
      "==================================\n",
      "\n",
      "Condition 3\n",
      "{'subject': [1, 1, 2, 2, 3, 3, 4, 4, 5, 5, 6, 6, 7, 7, 8, 8, 9, 9, 10, 10, 11, 11, 12, 12, 13, 13, 14, 14, 15, 15, 16, 16, 17, 17, 18, 18], 'step': ['s2', 's3', 's2', 's3', 's2', 's3', 's2', 's3', 's2', 's3', 's2', 's3', 's2', 's3', 's2', 's3', 's2', 's3', 's2', 's3', 's2', 's3', 's2', 's3', 's2', 's3', 's2', 's3', 's2', 's3', 's2', 's3', 's2', 's3', 's2', 's3'], 'follow': [18, 20, 17, 17, 18, 18, 18, 18, 16, 16, 17, 17, 18, 19, 16, 16, 14, 16, 19, 19, 20, 20, 18, 18, 16, 16, 16, 17, 19, 18, 14, 15, 18, 19, 17, 20]}\n",
      "              Anova\n",
      "==================================\n",
      "     F Value Num DF  Den DF Pr > F\n",
      "----------------------------------\n",
      "step  5.7432 1.0000 17.0000 0.0283\n",
      "==================================\n",
      "\n",
      "Condition 4\n",
      "{'subject': [1, 1, 2, 2, 3, 3, 4, 4, 5, 5, 6, 6, 7, 7, 8, 8, 9, 9, 10, 10, 11, 11, 12, 12, 13, 13, 14, 14, 15, 15, 16, 16, 17, 17, 18, 18], 'step': ['s2', 's3', 's2', 's3', 's2', 's3', 's2', 's3', 's2', 's3', 's2', 's3', 's2', 's3', 's2', 's3', 's2', 's3', 's2', 's3', 's2', 's3', 's2', 's3', 's2', 's3', 's2', 's3', 's2', 's3', 's2', 's3', 's2', 's3', 's2', 's3'], 'follow': [15, 15, 19, 19, 8, 8, 16, 16, 16, 16, 16, 16, 12, 12, 13, 13, 14, 14, 15, 15, 16, 16, 13, 14, 20, 20, 18, 18, 16, 16, 14, 14, 16, 17, 16, 16]}\n",
      "              Anova\n",
      "==================================\n",
      "     F Value Num DF  Den DF Pr > F\n",
      "----------------------------------\n",
      "step  2.1250 1.0000 17.0000 0.1631\n",
      "==================================\n",
      "\n",
      "Condition 5\n",
      "{'subject': [1, 1, 2, 2, 3, 3, 4, 4, 5, 5, 6, 6, 7, 7, 8, 8, 9, 9, 10, 10, 11, 11, 12, 12, 13, 13, 14, 14, 15, 15, 16, 16, 17, 17, 18, 18], 'step': ['s2', 's3', 's2', 's3', 's2', 's3', 's2', 's3', 's2', 's3', 's2', 's3', 's2', 's3', 's2', 's3', 's2', 's3', 's2', 's3', 's2', 's3', 's2', 's3', 's2', 's3', 's2', 's3', 's2', 's3', 's2', 's3', 's2', 's3', 's2', 's3'], 'follow': [13, 15, 14, 11, 10, 15, 14, 16, 13, 11, 12, 12, 13, 19, 13, 20, 14, 20, 12, 11, 13, 19, 13, 15, 13, 18, 15, 19, 12, 18, 15, 16, 14, 6, 13, 19]}\n",
      "              Anova\n",
      "==================================\n",
      "     F Value Num DF  Den DF Pr > F\n",
      "----------------------------------\n",
      "step  6.5666 1.0000 17.0000 0.0202\n",
      "==================================\n",
      "\n",
      "Condition 6\n",
      "{'subject': [1, 1, 2, 2, 3, 3, 4, 4, 5, 5, 6, 6, 7, 7, 8, 8, 9, 9, 10, 10, 11, 11, 12, 12, 13, 13, 14, 14, 15, 15, 16, 16, 17, 17, 18, 18], 'step': ['s2', 's3', 's2', 's3', 's2', 's3', 's2', 's3', 's2', 's3', 's2', 's3', 's2', 's3', 's2', 's3', 's2', 's3', 's2', 's3', 's2', 's3', 's2', 's3', 's2', 's3', 's2', 's3', 's2', 's3', 's2', 's3', 's2', 's3', 's2', 's3'], 'follow': [17, 17, 18, 18, 18, 18, 19, 19, 18, 18, 17, 17, 15, 15, 15, 15, 12, 11, 17, 16, 17, 15, 15, 14, 18, 19, 16, 15, 15, 15, 12, 12, 16, 15, 18, 18]}\n",
      "              Anova\n",
      "==================================\n",
      "     F Value Num DF  Den DF Pr > F\n",
      "----------------------------------\n",
      "step  4.2500 1.0000 17.0000 0.0549\n",
      "==================================\n",
      "\n"
     ]
    }
   ],
   "source": [
    "c = 0\n",
    "\n",
    "for c in range(1, 7):\n",
    "    print(f\"Condition {c}\")\n",
    "    df = load_data()\n",
    "    filtered_df = df[df['condition'] == c]\n",
    "\n",
    "    data = {\n",
    "        'subject': [],\n",
    "        'step': [],\n",
    "        'follow': []\n",
    "    }\n",
    "\n",
    "    count = 0\n",
    "    for index, row in filtered_df.iterrows():\n",
    "        count += 1\n",
    "        s1=0\n",
    "        s2=0\n",
    "        s3=0\n",
    "        for i in range(1, 21):\n",
    "            if row[f\"{i}_ai\"] == row[f\"{i}_2\"]: s2 += 1\n",
    "            if row[f\"{i}_ai\"] == row[f\"{i}_3\"]: s3 += 1\n",
    "        data[\"subject\"] += [count, count]\n",
    "        data[\"step\"] += ['s2', 's3']\n",
    "        data[\"follow\"] += [s2, s3]\n",
    "\n",
    "    print(data)\n",
    "    data = pd.DataFrame(data)\n",
    "    import statsmodels.api as sm\n",
    "    from statsmodels.formula.api import ols\n",
    "    from statsmodels.stats.anova import AnovaRM\n",
    "    anova_results = AnovaRM(data, 'follow', 'subject', within=['step']).fit()\n",
    "    print(anova_results)"
   ]
  },
  {
   "cell_type": "code",
   "execution_count": null,
   "metadata": {},
   "outputs": [],
   "source": []
  }
 ],
 "metadata": {
  "kernelspec": {
   "display_name": "ml-general",
   "language": "python",
   "name": "python3"
  },
  "language_info": {
   "codemirror_mode": {
    "name": "ipython",
    "version": 3
   },
   "file_extension": ".py",
   "mimetype": "text/x-python",
   "name": "python",
   "nbconvert_exporter": "python",
   "pygments_lexer": "ipython3",
   "version": "3.10.13"
  }
 },
 "nbformat": 4,
 "nbformat_minor": 2
}
